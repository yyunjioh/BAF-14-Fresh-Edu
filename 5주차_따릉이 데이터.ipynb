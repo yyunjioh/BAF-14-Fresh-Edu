{
 "cells": [
  {
   "cell_type": "markdown",
   "id": "fd6afa71",
   "metadata": {},
   "source": [
    "# 따릉이 대여 여부 예측"
   ]
  },
  {
   "cell_type": "markdown",
   "id": "504fbe50",
   "metadata": {},
   "source": [
    "## 데이터 확인"
   ]
  },
  {
   "cell_type": "code",
   "execution_count": 1,
   "id": "83a643e4",
   "metadata": {},
   "outputs": [],
   "source": [
    "import pandas as pd\n",
    "import numpy as np\n",
    "import matplotlib.pyplot as plt\n",
    "import seaborn as sns\n",
    "\n",
    "%config InlineBackend.figure_format = 'retina' \n",
    "\n",
    "import warnings\n",
    "warnings.filterwarnings(\"ignore\")\n",
    "\n",
    "pd.set_option('display.max_columns', None) \n",
    "\n",
    "from sklearn.metrics import (\n",
    "    accuracy_score,\n",
    "    confusion_matrix,\n",
    "    f1_score,\n",
    "    precision_score,\n",
    "    recall_score,classification_report\n",
    ")\n",
    "from sklearn.model_selection import train_test_split, GridSearchCV\n",
    "from sklearn.tree import DecisionTreeClassifier\n",
    "from sklearn.preprocessing import StandardScaler, MinMaxScaler, LabelEncoder"
   ]
  },
  {
   "cell_type": "code",
   "execution_count": 2,
   "id": "579a31f6",
   "metadata": {},
   "outputs": [],
   "source": [
    "train=pd.read_csv('C:/Users/Administrator/Downloads/train.csv')\n",
    "test=pd.read_csv('C:/Users/Administrator/Downloads/test.csv')"
   ]
  },
  {
   "cell_type": "code",
   "execution_count": 3,
   "id": "028b30c0",
   "metadata": {
    "scrolled": true
   },
   "outputs": [
    {
     "data": {
      "text/plain": [
       "<AxesSubplot:xlabel='Rented Bike Count', ylabel='count'>"
      ]
     },
     "execution_count": 3,
     "metadata": {},
     "output_type": "execute_result"
    },
    {
     "data": {
      "image/png": "[encoded data removed]",
      "text/plain": [
       "<Figure size 432x288 with 1 Axes>"
      ]
     },
     "metadata": {
      "image/png": {
       "height": 261,
       "width": 401
      },
      "needs_background": "light"
     },
     "output_type": "display_data"
    }
   ],
   "source": [
    "sns.countplot(train['Rented Bike Count'])"
   ]
  },
  {
   "cell_type": "code",
   "execution_count": 4,
   "id": "e4bec964",
   "metadata": {},
   "outputs": [
    {
     "data": {
      "text/html": [
       "<div>\n",
       "<style scoped>\n",
       "    .dataframe tbody tr th:only-of-type {\n",
       "        vertical-align: middle;\n",
       "    }\n",
       "\n",
       "    .dataframe tbody tr th {\n",
       "        vertical-align: top;\n",
       "    }\n",
       "\n",
       "    .dataframe thead th {\n",
       "        text-align: right;\n",
       "    }\n",
       "</style>\n",
       "<table border=\"1\" class=\"dataframe\">\n",
       "  <thead>\n",
       "    <tr style=\"text-align: right;\">\n",
       "      <th></th>\n",
       "      <th>Date</th>\n",
       "      <th>Rented Bike Count</th>\n",
       "      <th>Hour</th>\n",
       "      <th>Temperature(째C)</th>\n",
       "      <th>Humidity(%)</th>\n",
       "      <th>Wind speed (m/s)</th>\n",
       "      <th>Visibility (10m)</th>\n",
       "      <th>Dew point temperature(째C)</th>\n",
       "      <th>Solar Radiation (MJ/m2)</th>\n",
       "      <th>Rainfall(mm)</th>\n",
       "      <th>Snowfall (cm)</th>\n",
       "      <th>Seasons</th>\n",
       "      <th>Holiday</th>\n",
       "      <th>Functioning Day</th>\n",
       "    </tr>\n",
       "  </thead>\n",
       "  <tbody>\n",
       "    <tr>\n",
       "      <th>0</th>\n",
       "      <td>01/12/2017</td>\n",
       "      <td>254</td>\n",
       "      <td>0</td>\n",
       "      <td>-5.2</td>\n",
       "      <td>37</td>\n",
       "      <td>2.2</td>\n",
       "      <td>2000</td>\n",
       "      <td>-17.6</td>\n",
       "      <td>0.0</td>\n",
       "      <td>0.0</td>\n",
       "      <td>0.0</td>\n",
       "      <td>NaN</td>\n",
       "      <td>No Holiday</td>\n",
       "      <td>Yes</td>\n",
       "    </tr>\n",
       "    <tr>\n",
       "      <th>1</th>\n",
       "      <td>01/12/2017</td>\n",
       "      <td>204</td>\n",
       "      <td>1</td>\n",
       "      <td>-5.5</td>\n",
       "      <td>38</td>\n",
       "      <td>0.8</td>\n",
       "      <td>2000</td>\n",
       "      <td>-17.6</td>\n",
       "      <td>0.0</td>\n",
       "      <td>0.0</td>\n",
       "      <td>0.0</td>\n",
       "      <td>Winter</td>\n",
       "      <td>No Holiday</td>\n",
       "      <td>Yes</td>\n",
       "    </tr>\n",
       "    <tr>\n",
       "      <th>2</th>\n",
       "      <td>01/12/2017</td>\n",
       "      <td>173</td>\n",
       "      <td>2</td>\n",
       "      <td>-6.0</td>\n",
       "      <td>39</td>\n",
       "      <td>1.0</td>\n",
       "      <td>2000</td>\n",
       "      <td>-17.7</td>\n",
       "      <td>0.0</td>\n",
       "      <td>0.0</td>\n",
       "      <td>0.0</td>\n",
       "      <td>Winter</td>\n",
       "      <td>No Holiday</td>\n",
       "      <td>Yes</td>\n",
       "    </tr>\n",
       "    <tr>\n",
       "      <th>3</th>\n",
       "      <td>01/12/2017</td>\n",
       "      <td>107</td>\n",
       "      <td>3</td>\n",
       "      <td>-6.2</td>\n",
       "      <td>40</td>\n",
       "      <td>0.9</td>\n",
       "      <td>2000</td>\n",
       "      <td>-17.6</td>\n",
       "      <td>0.0</td>\n",
       "      <td>0.0</td>\n",
       "      <td>0.0</td>\n",
       "      <td>Winter</td>\n",
       "      <td>No Holiday</td>\n",
       "      <td>Yes</td>\n",
       "    </tr>\n",
       "    <tr>\n",
       "      <th>4</th>\n",
       "      <td>01/12/2017</td>\n",
       "      <td>78</td>\n",
       "      <td>4</td>\n",
       "      <td>-6.0</td>\n",
       "      <td>36</td>\n",
       "      <td>NaN</td>\n",
       "      <td>2000</td>\n",
       "      <td>-18.6</td>\n",
       "      <td>0.0</td>\n",
       "      <td>0.0</td>\n",
       "      <td>0.0</td>\n",
       "      <td>Winter</td>\n",
       "      <td>No Holiday</td>\n",
       "      <td>Yes</td>\n",
       "    </tr>\n",
       "  </tbody>\n",
       "</table>\n",
       "</div>"
      ],
      "text/plain": [
       "         Date  Rented Bike Count  Hour  Temperature(째C)  Humidity(%)  \\\n",
       "0  01/12/2017                254     0             -5.2           37   \n",
       "1  01/12/2017                204     1             -5.5           38   \n",
       "2  01/12/2017                173     2             -6.0           39   \n",
       "3  01/12/2017                107     3             -6.2           40   \n",
       "4  01/12/2017                 78     4             -6.0           36   \n",
       "\n",
       "   Wind speed (m/s)  Visibility (10m)  Dew point temperature(째C)  \\\n",
       "0               2.2              2000                      -17.6   \n",
       "1               0.8              2000                      -17.6   \n",
       "2               1.0              2000                      -17.7   \n",
       "3               0.9              2000                      -17.6   \n",
       "4               NaN              2000                      -18.6   \n",
       "\n",
       "   Solar Radiation (MJ/m2)  Rainfall(mm)  Snowfall (cm) Seasons     Holiday  \\\n",
       "0                      0.0           0.0            0.0     NaN  No Holiday   \n",
       "1                      0.0           0.0            0.0  Winter  No Holiday   \n",
       "2                      0.0           0.0            0.0  Winter  No Holiday   \n",
       "3                      0.0           0.0            0.0  Winter  No Holiday   \n",
       "4                      0.0           0.0            0.0  Winter  No Holiday   \n",
       "\n",
       "  Functioning Day  \n",
       "0             Yes  \n",
       "1             Yes  \n",
       "2             Yes  \n",
       "3             Yes  \n",
       "4             Yes  "
      ]
     },
     "execution_count": 4,
     "metadata": {},
     "output_type": "execute_result"
    }
   ],
   "source": [
    "train.head()"
   ]
  },
  {
   "cell_type": "code",
   "execution_count": 5,
   "id": "061a95be",
   "metadata": {},
   "outputs": [
    {
     "data": {
      "text/html": [
       "<div>\n",
       "<style scoped>\n",
       "    .dataframe tbody tr th:only-of-type {\n",
       "        vertical-align: middle;\n",
       "    }\n",
       "\n",
       "    .dataframe tbody tr th {\n",
       "        vertical-align: top;\n",
       "    }\n",
       "\n",
       "    .dataframe thead th {\n",
       "        text-align: right;\n",
       "    }\n",
       "</style>\n",
       "<table border=\"1\" class=\"dataframe\">\n",
       "  <thead>\n",
       "    <tr style=\"text-align: right;\">\n",
       "      <th></th>\n",
       "      <th>Date</th>\n",
       "      <th>Hour</th>\n",
       "      <th>Temperature(째C)</th>\n",
       "      <th>Humidity(%)</th>\n",
       "      <th>Wind speed (m/s)</th>\n",
       "      <th>Visibility (10m)</th>\n",
       "      <th>Dew point temperature(째C)</th>\n",
       "      <th>Solar Radiation (MJ/m2)</th>\n",
       "      <th>Rainfall(mm)</th>\n",
       "      <th>Snowfall (cm)</th>\n",
       "      <th>Seasons</th>\n",
       "      <th>Holiday</th>\n",
       "      <th>Functioning Day</th>\n",
       "    </tr>\n",
       "  </thead>\n",
       "  <tbody>\n",
       "    <tr>\n",
       "      <th>0</th>\n",
       "      <td>01/11/2018</td>\n",
       "      <td>0</td>\n",
       "      <td>5.7</td>\n",
       "      <td>62</td>\n",
       "      <td>2.3</td>\n",
       "      <td>1909</td>\n",
       "      <td>-1.0</td>\n",
       "      <td>0.0</td>\n",
       "      <td>0.0</td>\n",
       "      <td>0.0</td>\n",
       "      <td>Autumn</td>\n",
       "      <td>No Holiday</td>\n",
       "      <td>Yes</td>\n",
       "    </tr>\n",
       "    <tr>\n",
       "      <th>1</th>\n",
       "      <td>01/11/2018</td>\n",
       "      <td>1</td>\n",
       "      <td>5.1</td>\n",
       "      <td>65</td>\n",
       "      <td>1.6</td>\n",
       "      <td>1932</td>\n",
       "      <td>-0.9</td>\n",
       "      <td>0.0</td>\n",
       "      <td>0.0</td>\n",
       "      <td>0.0</td>\n",
       "      <td>Autumn</td>\n",
       "      <td>No Holiday</td>\n",
       "      <td>Yes</td>\n",
       "    </tr>\n",
       "    <tr>\n",
       "      <th>2</th>\n",
       "      <td>01/11/2018</td>\n",
       "      <td>2</td>\n",
       "      <td>4.4</td>\n",
       "      <td>64</td>\n",
       "      <td>NaN</td>\n",
       "      <td>2000</td>\n",
       "      <td>-1.8</td>\n",
       "      <td>0.0</td>\n",
       "      <td>0.0</td>\n",
       "      <td>0.0</td>\n",
       "      <td>Autumn</td>\n",
       "      <td>No Holiday</td>\n",
       "      <td>Yes</td>\n",
       "    </tr>\n",
       "    <tr>\n",
       "      <th>3</th>\n",
       "      <td>01/11/2018</td>\n",
       "      <td>3</td>\n",
       "      <td>4.2</td>\n",
       "      <td>65</td>\n",
       "      <td>0.7</td>\n",
       "      <td>1962</td>\n",
       "      <td>-1.8</td>\n",
       "      <td>0.0</td>\n",
       "      <td>0.0</td>\n",
       "      <td>0.0</td>\n",
       "      <td>Autumn</td>\n",
       "      <td>No Holiday</td>\n",
       "      <td>Yes</td>\n",
       "    </tr>\n",
       "    <tr>\n",
       "      <th>4</th>\n",
       "      <td>01/11/2018</td>\n",
       "      <td>4</td>\n",
       "      <td>3.6</td>\n",
       "      <td>70</td>\n",
       "      <td>0.8</td>\n",
       "      <td>1934</td>\n",
       "      <td>-1.3</td>\n",
       "      <td>0.0</td>\n",
       "      <td>0.0</td>\n",
       "      <td>0.0</td>\n",
       "      <td>Autumn</td>\n",
       "      <td>No Holiday</td>\n",
       "      <td>Yes</td>\n",
       "    </tr>\n",
       "  </tbody>\n",
       "</table>\n",
       "</div>"
      ],
      "text/plain": [
       "         Date  Hour  Temperature(째C)  Humidity(%)  Wind speed (m/s)  \\\n",
       "0  01/11/2018     0              5.7           62               2.3   \n",
       "1  01/11/2018     1              5.1           65               1.6   \n",
       "2  01/11/2018     2              4.4           64               NaN   \n",
       "3  01/11/2018     3              4.2           65               0.7   \n",
       "4  01/11/2018     4              3.6           70               0.8   \n",
       "\n",
       "   Visibility (10m)  Dew point temperature(째C)  Solar Radiation (MJ/m2)  \\\n",
       "0              1909                       -1.0                      0.0   \n",
       "1              1932                       -0.9                      0.0   \n",
       "2              2000                       -1.8                      0.0   \n",
       "3              1962                       -1.8                      0.0   \n",
       "4              1934                       -1.3                      0.0   \n",
       "\n",
       "   Rainfall(mm)  Snowfall (cm) Seasons     Holiday Functioning Day  \n",
       "0           0.0            0.0  Autumn  No Holiday             Yes  \n",
       "1           0.0            0.0  Autumn  No Holiday             Yes  \n",
       "2           0.0            0.0  Autumn  No Holiday             Yes  \n",
       "3           0.0            0.0  Autumn  No Holiday             Yes  \n",
       "4           0.0            0.0  Autumn  No Holiday             Yes  "
      ]
     },
     "execution_count": 5,
     "metadata": {},
     "output_type": "execute_result"
    }
   ],
   "source": [
    "test.head()"
   ]
  },
  {
   "cell_type": "code",
   "execution_count": 6,
   "id": "e2bd30d8",
   "metadata": {},
   "outputs": [
    {
     "name": "stdout",
     "output_type": "stream",
     "text": [
      "(8040, 14) (720, 13)\n"
     ]
    }
   ],
   "source": [
    "print(train.shape,test.shape)"
   ]
  },
  {
   "cell_type": "code",
   "execution_count": 7,
   "id": "474e0483",
   "metadata": {
    "scrolled": true
   },
   "outputs": [
    {
     "data": {
      "text/plain": [
       "<bound method DataFrame.info of            Date  Hour  Temperature(째C)  Humidity(%)  Wind speed (m/s)  \\\n",
       "0    01/11/2018     0              5.7           62               2.3   \n",
       "1    01/11/2018     1              5.1           65               1.6   \n",
       "2    01/11/2018     2              4.4           64               NaN   \n",
       "3    01/11/2018     3              4.2           65               0.7   \n",
       "4    01/11/2018     4              3.6           70               0.8   \n",
       "..          ...   ...              ...          ...               ...   \n",
       "715  30/11/2018    19              4.2           34               2.6   \n",
       "716  30/11/2018    20              3.4           37               2.3   \n",
       "717  30/11/2018    21              2.6           39               0.3   \n",
       "718  30/11/2018    22              2.1           41               1.0   \n",
       "719  30/11/2018    23              1.9           43               1.3   \n",
       "\n",
       "     Visibility (10m)  Dew point temperature(째C)  Solar Radiation (MJ/m2)  \\\n",
       "0                1909                       -1.0                      0.0   \n",
       "1                1932                       -0.9                      0.0   \n",
       "2                2000                       -1.8                      0.0   \n",
       "3                1962                       -1.8                      0.0   \n",
       "4                1934                       -1.3                      0.0   \n",
       "..                ...                        ...                      ...   \n",
       "715              1894                      -10.3                      0.0   \n",
       "716              2000                       -9.9                      0.0   \n",
       "717              1968                       -9.9                      0.0   \n",
       "718              1859                       -9.8                      0.0   \n",
       "719              1909                       -9.3                      0.0   \n",
       "\n",
       "     Rainfall(mm)  Snowfall (cm) Seasons     Holiday Functioning Day  \n",
       "0             0.0            0.0  Autumn  No Holiday             Yes  \n",
       "1             0.0            0.0  Autumn  No Holiday             Yes  \n",
       "2             0.0            0.0  Autumn  No Holiday             Yes  \n",
       "3             0.0            0.0  Autumn  No Holiday             Yes  \n",
       "4             0.0            0.0  Autumn  No Holiday             Yes  \n",
       "..            ...            ...     ...         ...             ...  \n",
       "715           0.0            0.0     NaN  No Holiday             Yes  \n",
       "716           0.0            0.0  Autumn  No Holiday             Yes  \n",
       "717           0.0            0.0  Autumn  No Holiday             Yes  \n",
       "718           0.0            0.0  Autumn  No Holiday             Yes  \n",
       "719           0.0            0.0  Autumn  No Holiday             Yes  \n",
       "\n",
       "[720 rows x 13 columns]>"
      ]
     },
     "execution_count": 7,
     "metadata": {},
     "output_type": "execute_result"
    }
   ],
   "source": [
    "test.info"
   ]
  },
  {
   "cell_type": "code",
   "execution_count": 8,
   "id": "7583bd4f",
   "metadata": {},
   "outputs": [
    {
     "data": {
      "text/plain": [
       "<bound method DataFrame.info of            Date  Hour  Temperature(째C)  Humidity(%)  Wind speed (m/s)  \\\n",
       "0    01/11/2018     0              5.7           62               2.3   \n",
       "1    01/11/2018     1              5.1           65               1.6   \n",
       "2    01/11/2018     2              4.4           64               NaN   \n",
       "3    01/11/2018     3              4.2           65               0.7   \n",
       "4    01/11/2018     4              3.6           70               0.8   \n",
       "..          ...   ...              ...          ...               ...   \n",
       "715  30/11/2018    19              4.2           34               2.6   \n",
       "716  30/11/2018    20              3.4           37               2.3   \n",
       "717  30/11/2018    21              2.6           39               0.3   \n",
       "718  30/11/2018    22              2.1           41               1.0   \n",
       "719  30/11/2018    23              1.9           43               1.3   \n",
       "\n",
       "     Visibility (10m)  Dew point temperature(째C)  Solar Radiation (MJ/m2)  \\\n",
       "0                1909                       -1.0                      0.0   \n",
       "1                1932                       -0.9                      0.0   \n",
       "2                2000                       -1.8                      0.0   \n",
       "3                1962                       -1.8                      0.0   \n",
       "4                1934                       -1.3                      0.0   \n",
       "..                ...                        ...                      ...   \n",
       "715              1894                      -10.3                      0.0   \n",
       "716              2000                       -9.9                      0.0   \n",
       "717              1968                       -9.9                      0.0   \n",
       "718              1859                       -9.8                      0.0   \n",
       "719              1909                       -9.3                      0.0   \n",
       "\n",
       "     Rainfall(mm)  Snowfall (cm) Seasons     Holiday Functioning Day  \n",
       "0             0.0            0.0  Autumn  No Holiday             Yes  \n",
       "1             0.0            0.0  Autumn  No Holiday             Yes  \n",
       "2             0.0            0.0  Autumn  No Holiday             Yes  \n",
       "3             0.0            0.0  Autumn  No Holiday             Yes  \n",
       "4             0.0            0.0  Autumn  No Holiday             Yes  \n",
       "..            ...            ...     ...         ...             ...  \n",
       "715           0.0            0.0     NaN  No Holiday             Yes  \n",
       "716           0.0            0.0  Autumn  No Holiday             Yes  \n",
       "717           0.0            0.0  Autumn  No Holiday             Yes  \n",
       "718           0.0            0.0  Autumn  No Holiday             Yes  \n",
       "719           0.0            0.0  Autumn  No Holiday             Yes  \n",
       "\n",
       "[720 rows x 13 columns]>"
      ]
     },
     "execution_count": 8,
     "metadata": {},
     "output_type": "execute_result"
    }
   ],
   "source": [
    "test.info"
   ]
  },
  {
   "cell_type": "code",
   "execution_count": 9,
   "id": "4741c5e3",
   "metadata": {},
   "outputs": [
    {
     "data": {
      "text/plain": [
       "Text(0.5, 1.0, 'correlation heatmap')"
      ]
     },
     "execution_count": 9,
     "metadata": {},
     "output_type": "execute_result"
    },
    {
     "data": {
      "image/png": "[encoded data removed]",
      "text/plain": [
       "<Figure size 720x504 with 2 Axes>"
      ]
     },
     "metadata": {
      "image/png": {
       "height": 555,
       "width": 684
      },
      "needs_background": "light"
     },
     "output_type": "display_data"
    }
   ],
   "source": [
    "plt.figure(figsize=(10,7)) \n",
    "sns.heatmap(train.corr(),annot=True)\n",
    "plt.title('correlation heatmap')"
   ]
  },
  {
   "cell_type": "code",
   "execution_count": 10,
   "id": "8e727a4b",
   "metadata": {},
   "outputs": [
    {
     "data": {
      "text/plain": [
       "Text(0.5, 1.0, 'correlation heatmap')"
      ]
     },
     "execution_count": 10,
     "metadata": {},
     "output_type": "execute_result"
    },
    {
     "data": {
      "image/png": "[encoded data removed]",
      "text/plain": [
       "<Figure size 720x504 with 2 Axes>"
      ]
     },
     "metadata": {
      "image/png": {
       "height": 555,
       "width": 684
      },
      "needs_background": "light"
     },
     "output_type": "display_data"
    }
   ],
   "source": [
    "plt.figure(figsize=(10,7)) \n",
    "sns.heatmap(test.corr(),annot=True)\n",
    "plt.title('correlation heatmap')"
   ]
  },
  {
   "cell_type": "markdown",
   "id": "0117e676",
   "metadata": {},
   "source": [
    "## 데이터 1차 전처리 수행"
   ]
  },
  {
   "cell_type": "code",
   "execution_count": 11,
   "id": "64a7dd97",
   "metadata": {},
   "outputs": [
    {
     "data": {
      "text/plain": [
       "Date                           0\n",
       "Rented Bike Count              0\n",
       "Hour                           0\n",
       "Humidity(%)                    0\n",
       "Visibility (10m)               0\n",
       "Dew point temperature(째C)      0\n",
       "Solar Radiation (MJ/m2)        0\n",
       "Rainfall(mm)                   0\n",
       "Snowfall (cm)                  0\n",
       "Holiday                        0\n",
       "Functioning Day                0\n",
       "Temperature(째C)              800\n",
       "Wind speed (m/s)             802\n",
       "Seasons                      802\n",
       "dtype: int64"
      ]
     },
     "execution_count": 11,
     "metadata": {},
     "output_type": "execute_result"
    }
   ],
   "source": [
    "train.isna().sum(axis=0).sort_values()"
   ]
  },
  {
   "cell_type": "code",
   "execution_count": 12,
   "id": "68205732",
   "metadata": {},
   "outputs": [],
   "source": [
    "import pandas as pd\n",
    "df=pd.DataFrame(train)"
   ]
  },
  {
   "cell_type": "code",
   "execution_count": 13,
   "id": "ed1d3897",
   "metadata": {},
   "outputs": [],
   "source": [
    "df[\"Temperature(째C)\"]=train[\"Temperature(째C)\"].fillna(round(train[\"Temperature(째C)\"].mode()[0]))"
   ]
  },
  {
   "cell_type": "code",
   "execution_count": 14,
   "id": "f1fda64b",
   "metadata": {},
   "outputs": [
    {
     "data": {
      "text/plain": [
       "count    8040.000000\n",
       "mean       14.145473\n",
       "std        11.805459\n",
       "min       -17.800000\n",
       "25%         4.800000\n",
       "50%        17.700000\n",
       "75%        22.400000\n",
       "max        39.400000\n",
       "Name: Temperature(째C), dtype: float64"
      ]
     },
     "execution_count": 14,
     "metadata": {},
     "output_type": "execute_result"
    }
   ],
   "source": [
    "train[\"Temperature(째C)\"].describe()"
   ]
  },
  {
   "cell_type": "code",
   "execution_count": 15,
   "id": "ce1504a7",
   "metadata": {},
   "outputs": [
    {
     "data": {
      "text/plain": [
       "<AxesSubplot:xlabel='Temperature(째C)'>"
      ]
     },
     "execution_count": 15,
     "metadata": {},
     "output_type": "execute_result"
    },
    {
     "data": {
      "image/png": "[encoded data removed]",
      "text/plain": [
       "<Figure size 432x288 with 1 Axes>"
      ]
     },
     "metadata": {
      "image/png": {
       "height": 261,
       "width": 356
      },
      "needs_background": "light"
     },
     "output_type": "display_data"
    }
   ],
   "source": [
    "sns.boxplot(train[\"Temperature(째C)\"])"
   ]
  },
  {
   "cell_type": "code",
   "execution_count": 16,
   "id": "afb99b2b",
   "metadata": {},
   "outputs": [
    {
     "data": {
      "text/plain": [
       "Humidity(%)                 -0.344381\n",
       "Dew point temperature(째C)   -0.196218\n",
       "Temperature(째C)             -0.056631\n",
       "Rainfall(mm)                -0.032976\n",
       "Snowfall (cm)               -0.000537\n",
       "Rented Bike Count            0.115569\n",
       "Visibility (10m)             0.160908\n",
       "Hour                         0.287398\n",
       "Solar Radiation (MJ/m2)      0.330732\n",
       "Wind speed (m/s)             1.000000\n",
       "Name: Wind speed (m/s), dtype: float64"
      ]
     },
     "execution_count": 16,
     "metadata": {},
     "output_type": "execute_result"
    }
   ],
   "source": [
    "train._get_numeric_data().corr()[\"Wind speed (m/s)\"].sort_values()"
   ]
  },
  {
   "cell_type": "code",
   "execution_count": 17,
   "id": "39049ad1",
   "metadata": {},
   "outputs": [
    {
     "name": "stdout",
     "output_type": "stream",
     "text": [
      "Requirement already satisfied: missingno in c:\\users\\administrator\\anaconda3\\lib\\site-packages (0.5.2)\n",
      "Requirement already satisfied: matplotlib in c:\\users\\administrator\\anaconda3\\lib\\site-packages (from missingno) (3.3.4)\n",
      "Requirement already satisfied: scipy in c:\\users\\administrator\\anaconda3\\lib\\site-packages (from missingno) (1.6.2)\n",
      "Requirement already satisfied: seaborn in c:\\users\\administrator\\anaconda3\\lib\\site-packages (from missingno) (0.11.1)\n",
      "Requirement already satisfied: numpy in c:\\users\\administrator\\anaconda3\\lib\\site-packages (from missingno) (1.20.1)\n",
      "Requirement already satisfied: pillow>=6.2.0 in c:\\users\\administrator\\anaconda3\\lib\\site-packages (from matplotlib->missingno) (8.2.0)\n",
      "Requirement already satisfied: python-dateutil>=2.1 in c:\\users\\administrator\\anaconda3\\lib\\site-packages (from matplotlib->missingno) (2.8.1)\n",
      "Requirement already satisfied: kiwisolver>=1.0.1 in c:\\users\\administrator\\anaconda3\\lib\\site-packages (from matplotlib->missingno) (1.3.1)\n",
      "Requirement already satisfied: pyparsing!=2.0.4,!=2.1.2,!=2.1.6,>=2.0.3 in c:\\users\\administrator\\anaconda3\\lib\\site-packages (from matplotlib->missingno) (2.4.7)\n",
      "Requirement already satisfied: cycler>=0.10 in c:\\users\\administrator\\anaconda3\\lib\\site-packages (from matplotlib->missingno) (0.10.0)\n",
      "Requirement already satisfied: six in c:\\users\\administrator\\anaconda3\\lib\\site-packages (from cycler>=0.10->matplotlib->missingno) (1.15.0)\n",
      "Requirement already satisfied: pandas>=0.23 in c:\\users\\administrator\\anaconda3\\lib\\site-packages (from seaborn->missingno) (1.2.4)\n",
      "Requirement already satisfied: pytz>=2017.3 in c:\\users\\administrator\\anaconda3\\lib\\site-packages (from pandas>=0.23->seaborn->missingno) (2021.1)\n",
      "Note: you may need to restart the kernel to use updated packages.\n"
     ]
    }
   ],
   "source": [
    "pip install missingno"
   ]
  },
  {
   "cell_type": "code",
   "execution_count": 18,
   "id": "d3f5b9e7",
   "metadata": {},
   "outputs": [
    {
     "name": "stdout",
     "output_type": "stream",
     "text": [
      "Requirement already satisfied: fancyimpute in c:\\users\\administrator\\anaconda3\\lib\\site-packages (0.7.0)\n",
      "Requirement already satisfied: scikit-learn>=0.24.2 in c:\\users\\administrator\\anaconda3\\lib\\site-packages (from fancyimpute) (1.3.2)\n",
      "Requirement already satisfied: cvxopt in c:\\users\\administrator\\anaconda3\\lib\\site-packages (from fancyimpute) (1.3.2)\n",
      "Requirement already satisfied: cvxpy in c:\\users\\administrator\\anaconda3\\lib\\site-packages (from fancyimpute) (1.4.2)\n",
      "Requirement already satisfied: knnimpute>=0.1.0 in c:\\users\\administrator\\anaconda3\\lib\\site-packages (from fancyimpute) (0.1.0)\n",
      "Requirement already satisfied: pytest in c:\\users\\administrator\\anaconda3\\lib\\site-packages (from fancyimpute) (6.2.3)\n",
      "Requirement already satisfied: nose in c:\\users\\administrator\\anaconda3\\lib\\site-packages (from fancyimpute) (1.3.7)\n",
      "Requirement already satisfied: six in c:\\users\\administrator\\anaconda3\\lib\\site-packages (from knnimpute>=0.1.0->fancyimpute) (1.15.0)\n",
      "Requirement already satisfied: numpy>=1.10 in c:\\users\\administrator\\anaconda3\\lib\\site-packages (from knnimpute>=0.1.0->fancyimpute) (1.20.1)\n",
      "Requirement already satisfied: joblib>=1.1.1 in c:\\users\\administrator\\anaconda3\\lib\\site-packages (from scikit-learn>=0.24.2->fancyimpute) (1.3.2)\n",
      "Requirement already satisfied: threadpoolctl>=2.0.0 in c:\\users\\administrator\\anaconda3\\lib\\site-packages (from scikit-learn>=0.24.2->fancyimpute) (2.1.0)\n",
      "Requirement already satisfied: scipy>=1.5.0 in c:\\users\\administrator\\anaconda3\\lib\\site-packages (from scikit-learn>=0.24.2->fancyimpute) (1.6.2)\n",
      "Requirement already satisfied: scs>=3.0 in c:\\users\\administrator\\anaconda3\\lib\\site-packages (from cvxpy->fancyimpute) (3.2.4.post1)\n",
      "Requirement already satisfied: osqp>=0.6.2 in c:\\users\\administrator\\anaconda3\\lib\\site-packages (from cvxpy->fancyimpute) (0.6.3)\n",
      "Requirement already satisfied: ecos>=2 in c:\\users\\administrator\\anaconda3\\lib\\site-packages (from cvxpy->fancyimpute) (2.0.12)\n",
      "Requirement already satisfied: clarabel>=0.5.0 in c:\\users\\administrator\\anaconda3\\lib\\site-packages (from cvxpy->fancyimpute) (0.6.0)\n",
      "Requirement already satisfied: pybind11 in c:\\users\\administrator\\anaconda3\\lib\\site-packages (from cvxpy->fancyimpute) (2.11.1)\n",
      "Requirement already satisfied: qdldl in c:\\users\\administrator\\anaconda3\\lib\\site-packages (from osqp>=0.6.2->cvxpy->fancyimpute) (0.1.7.post0)\n",
      "Requirement already satisfied: attrs>=19.2.0 in c:\\users\\administrator\\anaconda3\\lib\\site-packages (from pytest->fancyimpute) (20.3.0)\n",
      "Requirement already satisfied: iniconfig in c:\\users\\administrator\\anaconda3\\lib\\site-packages (from pytest->fancyimpute) (1.1.1)\n",
      "Requirement already satisfied: packaging in c:\\users\\administrator\\anaconda3\\lib\\site-packages (from pytest->fancyimpute) (20.9)\n",
      "Requirement already satisfied: pluggy<1.0.0a1,>=0.12 in c:\\users\\administrator\\anaconda3\\lib\\site-packages (from pytest->fancyimpute) (0.13.1)\n",
      "Requirement already satisfied: py>=1.8.2 in c:\\users\\administrator\\anaconda3\\lib\\site-packages (from pytest->fancyimpute) (1.10.0)\n",
      "Requirement already satisfied: toml in c:\\users\\administrator\\anaconda3\\lib\\site-packages (from pytest->fancyimpute) (0.10.2)\n",
      "Requirement already satisfied: atomicwrites>=1.0 in c:\\users\\administrator\\anaconda3\\lib\\site-packages (from pytest->fancyimpute) (1.4.0)\n",
      "Requirement already satisfied: colorama in c:\\users\\administrator\\anaconda3\\lib\\site-packages (from pytest->fancyimpute) (0.4.4)\n",
      "Requirement already satisfied: pyparsing>=2.0.2 in c:\\users\\administrator\\anaconda3\\lib\\site-packages (from packaging->pytest->fancyimpute) (2.4.7)\n",
      "Note: you may need to restart the kernel to use updated packages.\n"
     ]
    }
   ],
   "source": [
    "pip install fancyimpute"
   ]
  },
  {
   "cell_type": "code",
   "execution_count": 19,
   "id": "9db3f3d7",
   "metadata": {},
   "outputs": [
    {
     "name": "stdout",
     "output_type": "stream",
     "text": [
      "(CVXPY) Feb 16 01:26:42 AM: Encountered unexpected exception importing solver CVXOPT:\n",
      "ImportError('DLL load failed while importing base: 지정된 모듈을 찾을 수 없습니다.')\n",
      "(CVXPY) Feb 16 01:26:42 AM: Encountered unexpected exception importing solver GLPK:\n",
      "ImportError('DLL load failed while importing base: 지정된 모듈을 찾을 수 없습니다.')\n",
      "(CVXPY) Feb 16 01:26:42 AM: Encountered unexpected exception importing solver GLPK_MI:\n",
      "ImportError('DLL load failed while importing base: 지정된 모듈을 찾을 수 없습니다.')\n"
     ]
    }
   ],
   "source": [
    "import missingno as msno \n",
    "from fancyimpute import IterativeImputer\n",
    "import warnings\n",
    "warnings.filterwarnings('ignore')"
   ]
  },
  {
   "cell_type": "code",
   "execution_count": 20,
   "id": "32568f87",
   "metadata": {},
   "outputs": [],
   "source": [
    "imputer = IterativeImputer()\n",
    "imputed_arr=imputer.fit_transform(train[['Humidity(%)', 'Dew point temperature(째C)', 'Wind speed (m/s)']])\n",
    "df[\"Wind speed (m/s)\"]=pd.DataFrame(imputed_arr, columns=['Humidity(%)', 'Dew point temperature(째C)', 'Wind speed (m/s)'])[\"Wind speed (m/s)\"].round()"
   ]
  },
  {
   "cell_type": "code",
   "execution_count": 21,
   "id": "ddb42f4c",
   "metadata": {},
   "outputs": [
    {
     "data": {
      "text/plain": [
       "count    8040.000000\n",
       "mean        1.760697\n",
       "std         1.045047\n",
       "min         0.000000\n",
       "25%         1.000000\n",
       "50%         2.000000\n",
       "75%         2.000000\n",
       "max         7.000000\n",
       "Name: Wind speed (m/s), dtype: float64"
      ]
     },
     "execution_count": 21,
     "metadata": {},
     "output_type": "execute_result"
    }
   ],
   "source": [
    "train[\"Wind speed (m/s)\"].describe()"
   ]
  },
  {
   "cell_type": "code",
   "execution_count": 22,
   "id": "7489124e",
   "metadata": {},
   "outputs": [
    {
     "data": {
      "text/plain": [
       "<AxesSubplot:xlabel='Wind speed (m/s)'>"
      ]
     },
     "execution_count": 22,
     "metadata": {},
     "output_type": "execute_result"
    },
    {
     "data": {
      "image/png": "[encoded data removed]",
      "text/plain": [
       "<Figure size 432x288 with 1 Axes>"
      ]
     },
     "metadata": {
      "image/png": {
       "height": 261,
       "width": 352
      },
      "needs_background": "light"
     },
     "output_type": "display_data"
    }
   ],
   "source": [
    "sns.boxplot(train[\"Wind speed (m/s)\"])"
   ]
  },
  {
   "cell_type": "code",
   "execution_count": 23,
   "id": "dcd06d52",
   "metadata": {},
   "outputs": [],
   "source": [
    "df['Date']=pd.to_datetime(df['Date'])"
   ]
  },
  {
   "cell_type": "code",
   "execution_count": 24,
   "id": "6b871576",
   "metadata": {},
   "outputs": [],
   "source": [
    "def get_Seasons(month):\n",
    "    if 3 <= month <= 5:\n",
    "        return 'Spring'\n",
    "    elif 6 <= month <= 8:\n",
    "        return 'Summer'\n",
    "    elif 9 <= month <= 11:\n",
    "        return 'Autumn'\n",
    "    else:\n",
    "        return 'Winter'"
   ]
  },
  {
   "cell_type": "code",
   "execution_count": 25,
   "id": "4e9df5bc",
   "metadata": {},
   "outputs": [],
   "source": [
    "df['Seasons'] = df.apply(lambda row: row['Seasons'] if pd.notnull(row['Seasons']) else get_Seasons(row['Date'].month), axis=1)"
   ]
  },
  {
   "cell_type": "code",
   "execution_count": 26,
   "id": "734270fe",
   "metadata": {},
   "outputs": [
    {
     "data": {
      "text/plain": [
       "Date                         0\n",
       "Rented Bike Count            0\n",
       "Hour                         0\n",
       "Temperature(째C)              0\n",
       "Humidity(%)                  0\n",
       "Wind speed (m/s)             0\n",
       "Visibility (10m)             0\n",
       "Dew point temperature(째C)    0\n",
       "Solar Radiation (MJ/m2)      0\n",
       "Rainfall(mm)                 0\n",
       "Snowfall (cm)                0\n",
       "Seasons                      0\n",
       "Holiday                      0\n",
       "Functioning Day              0\n",
       "dtype: int64"
      ]
     },
     "execution_count": 26,
     "metadata": {},
     "output_type": "execute_result"
    }
   ],
   "source": [
    "df.isna().sum(axis=0).sort_values()"
   ]
  },
  {
   "cell_type": "code",
   "execution_count": 27,
   "id": "08d85928",
   "metadata": {},
   "outputs": [
    {
     "data": {
      "text/plain": [
       "array(['Winter', 'Spring', 'Summer', 'Autumn'], dtype=object)"
      ]
     },
     "execution_count": 27,
     "metadata": {},
     "output_type": "execute_result"
    }
   ],
   "source": [
    "train.Seasons.unique()"
   ]
  },
  {
   "cell_type": "code",
   "execution_count": 28,
   "id": "19b3efc0",
   "metadata": {},
   "outputs": [
    {
     "data": {
      "text/html": [
       "<div>\n",
       "<style scoped>\n",
       "    .dataframe tbody tr th:only-of-type {\n",
       "        vertical-align: middle;\n",
       "    }\n",
       "\n",
       "    .dataframe tbody tr th {\n",
       "        vertical-align: top;\n",
       "    }\n",
       "\n",
       "    .dataframe thead th {\n",
       "        text-align: right;\n",
       "    }\n",
       "</style>\n",
       "<table border=\"1\" class=\"dataframe\">\n",
       "  <thead>\n",
       "    <tr style=\"text-align: right;\">\n",
       "      <th></th>\n",
       "      <th>Date</th>\n",
       "      <th>Rented Bike Count</th>\n",
       "      <th>Hour</th>\n",
       "      <th>Temperature(째C)</th>\n",
       "      <th>Humidity(%)</th>\n",
       "      <th>Wind speed (m/s)</th>\n",
       "      <th>Visibility (10m)</th>\n",
       "      <th>Dew point temperature(째C)</th>\n",
       "      <th>Solar Radiation (MJ/m2)</th>\n",
       "      <th>Rainfall(mm)</th>\n",
       "      <th>Snowfall (cm)</th>\n",
       "      <th>Seasons</th>\n",
       "      <th>Holiday</th>\n",
       "      <th>Functioning Day</th>\n",
       "    </tr>\n",
       "  </thead>\n",
       "  <tbody>\n",
       "    <tr>\n",
       "      <th>0</th>\n",
       "      <td>2017-01-12</td>\n",
       "      <td>254</td>\n",
       "      <td>0</td>\n",
       "      <td>-5.2</td>\n",
       "      <td>37</td>\n",
       "      <td>2.0</td>\n",
       "      <td>2000</td>\n",
       "      <td>-17.6</td>\n",
       "      <td>0.0</td>\n",
       "      <td>0.0</td>\n",
       "      <td>0.0</td>\n",
       "      <td>Winter</td>\n",
       "      <td>No Holiday</td>\n",
       "      <td>Yes</td>\n",
       "    </tr>\n",
       "    <tr>\n",
       "      <th>1</th>\n",
       "      <td>2017-01-12</td>\n",
       "      <td>204</td>\n",
       "      <td>1</td>\n",
       "      <td>-5.5</td>\n",
       "      <td>38</td>\n",
       "      <td>1.0</td>\n",
       "      <td>2000</td>\n",
       "      <td>-17.6</td>\n",
       "      <td>0.0</td>\n",
       "      <td>0.0</td>\n",
       "      <td>0.0</td>\n",
       "      <td>Winter</td>\n",
       "      <td>No Holiday</td>\n",
       "      <td>Yes</td>\n",
       "    </tr>\n",
       "    <tr>\n",
       "      <th>2</th>\n",
       "      <td>2017-01-12</td>\n",
       "      <td>173</td>\n",
       "      <td>2</td>\n",
       "      <td>-6.0</td>\n",
       "      <td>39</td>\n",
       "      <td>1.0</td>\n",
       "      <td>2000</td>\n",
       "      <td>-17.7</td>\n",
       "      <td>0.0</td>\n",
       "      <td>0.0</td>\n",
       "      <td>0.0</td>\n",
       "      <td>Winter</td>\n",
       "      <td>No Holiday</td>\n",
       "      <td>Yes</td>\n",
       "    </tr>\n",
       "    <tr>\n",
       "      <th>3</th>\n",
       "      <td>2017-01-12</td>\n",
       "      <td>107</td>\n",
       "      <td>3</td>\n",
       "      <td>-6.2</td>\n",
       "      <td>40</td>\n",
       "      <td>1.0</td>\n",
       "      <td>2000</td>\n",
       "      <td>-17.6</td>\n",
       "      <td>0.0</td>\n",
       "      <td>0.0</td>\n",
       "      <td>0.0</td>\n",
       "      <td>Winter</td>\n",
       "      <td>No Holiday</td>\n",
       "      <td>Yes</td>\n",
       "    </tr>\n",
       "    <tr>\n",
       "      <th>4</th>\n",
       "      <td>2017-01-12</td>\n",
       "      <td>78</td>\n",
       "      <td>4</td>\n",
       "      <td>-6.0</td>\n",
       "      <td>36</td>\n",
       "      <td>2.0</td>\n",
       "      <td>2000</td>\n",
       "      <td>-18.6</td>\n",
       "      <td>0.0</td>\n",
       "      <td>0.0</td>\n",
       "      <td>0.0</td>\n",
       "      <td>Winter</td>\n",
       "      <td>No Holiday</td>\n",
       "      <td>Yes</td>\n",
       "    </tr>\n",
       "    <tr>\n",
       "      <th>...</th>\n",
       "      <td>...</td>\n",
       "      <td>...</td>\n",
       "      <td>...</td>\n",
       "      <td>...</td>\n",
       "      <td>...</td>\n",
       "      <td>...</td>\n",
       "      <td>...</td>\n",
       "      <td>...</td>\n",
       "      <td>...</td>\n",
       "      <td>...</td>\n",
       "      <td>...</td>\n",
       "      <td>...</td>\n",
       "      <td>...</td>\n",
       "      <td>...</td>\n",
       "    </tr>\n",
       "    <tr>\n",
       "      <th>8035</th>\n",
       "      <td>2018-10-31</td>\n",
       "      <td>1507</td>\n",
       "      <td>19</td>\n",
       "      <td>8.4</td>\n",
       "      <td>53</td>\n",
       "      <td>2.0</td>\n",
       "      <td>2000</td>\n",
       "      <td>-0.6</td>\n",
       "      <td>0.0</td>\n",
       "      <td>0.0</td>\n",
       "      <td>0.0</td>\n",
       "      <td>Autumn</td>\n",
       "      <td>No Holiday</td>\n",
       "      <td>Yes</td>\n",
       "    </tr>\n",
       "    <tr>\n",
       "      <th>8036</th>\n",
       "      <td>2018-10-31</td>\n",
       "      <td>1176</td>\n",
       "      <td>20</td>\n",
       "      <td>7.6</td>\n",
       "      <td>59</td>\n",
       "      <td>1.0</td>\n",
       "      <td>2000</td>\n",
       "      <td>0.0</td>\n",
       "      <td>0.0</td>\n",
       "      <td>0.0</td>\n",
       "      <td>0.0</td>\n",
       "      <td>Autumn</td>\n",
       "      <td>No Holiday</td>\n",
       "      <td>Yes</td>\n",
       "    </tr>\n",
       "    <tr>\n",
       "      <th>8037</th>\n",
       "      <td>2018-10-31</td>\n",
       "      <td>1069</td>\n",
       "      <td>21</td>\n",
       "      <td>7.6</td>\n",
       "      <td>59</td>\n",
       "      <td>3.0</td>\n",
       "      <td>1929</td>\n",
       "      <td>0.0</td>\n",
       "      <td>0.0</td>\n",
       "      <td>0.0</td>\n",
       "      <td>0.0</td>\n",
       "      <td>Autumn</td>\n",
       "      <td>No Holiday</td>\n",
       "      <td>Yes</td>\n",
       "    </tr>\n",
       "    <tr>\n",
       "      <th>8038</th>\n",
       "      <td>2018-10-31</td>\n",
       "      <td>1088</td>\n",
       "      <td>22</td>\n",
       "      <td>6.8</td>\n",
       "      <td>58</td>\n",
       "      <td>2.0</td>\n",
       "      <td>1936</td>\n",
       "      <td>-0.9</td>\n",
       "      <td>0.0</td>\n",
       "      <td>0.0</td>\n",
       "      <td>0.0</td>\n",
       "      <td>Autumn</td>\n",
       "      <td>No Holiday</td>\n",
       "      <td>Yes</td>\n",
       "    </tr>\n",
       "    <tr>\n",
       "      <th>8039</th>\n",
       "      <td>2018-10-31</td>\n",
       "      <td>798</td>\n",
       "      <td>23</td>\n",
       "      <td>6.4</td>\n",
       "      <td>60</td>\n",
       "      <td>2.0</td>\n",
       "      <td>1930</td>\n",
       "      <td>-0.8</td>\n",
       "      <td>0.0</td>\n",
       "      <td>0.0</td>\n",
       "      <td>0.0</td>\n",
       "      <td>Autumn</td>\n",
       "      <td>No Holiday</td>\n",
       "      <td>Yes</td>\n",
       "    </tr>\n",
       "  </tbody>\n",
       "</table>\n",
       "<p>8040 rows × 14 columns</p>\n",
       "</div>"
      ],
      "text/plain": [
       "           Date  Rented Bike Count  Hour  Temperature(째C)  Humidity(%)  \\\n",
       "0    2017-01-12                254     0             -5.2           37   \n",
       "1    2017-01-12                204     1             -5.5           38   \n",
       "2    2017-01-12                173     2             -6.0           39   \n",
       "3    2017-01-12                107     3             -6.2           40   \n",
       "4    2017-01-12                 78     4             -6.0           36   \n",
       "...         ...                ...   ...              ...          ...   \n",
       "8035 2018-10-31               1507    19              8.4           53   \n",
       "8036 2018-10-31               1176    20              7.6           59   \n",
       "8037 2018-10-31               1069    21              7.6           59   \n",
       "8038 2018-10-31               1088    22              6.8           58   \n",
       "8039 2018-10-31                798    23              6.4           60   \n",
       "\n",
       "      Wind speed (m/s)  Visibility (10m)  Dew point temperature(째C)  \\\n",
       "0                  2.0              2000                      -17.6   \n",
       "1                  1.0              2000                      -17.6   \n",
       "2                  1.0              2000                      -17.7   \n",
       "3                  1.0              2000                      -17.6   \n",
       "4                  2.0              2000                      -18.6   \n",
       "...                ...               ...                        ...   \n",
       "8035               2.0              2000                       -0.6   \n",
       "8036               1.0              2000                        0.0   \n",
       "8037               3.0              1929                        0.0   \n",
       "8038               2.0              1936                       -0.9   \n",
       "8039               2.0              1930                       -0.8   \n",
       "\n",
       "      Solar Radiation (MJ/m2)  Rainfall(mm)  Snowfall (cm) Seasons  \\\n",
       "0                         0.0           0.0            0.0  Winter   \n",
       "1                         0.0           0.0            0.0  Winter   \n",
       "2                         0.0           0.0            0.0  Winter   \n",
       "3                         0.0           0.0            0.0  Winter   \n",
       "4                         0.0           0.0            0.0  Winter   \n",
       "...                       ...           ...            ...     ...   \n",
       "8035                      0.0           0.0            0.0  Autumn   \n",
       "8036                      0.0           0.0            0.0  Autumn   \n",
       "8037                      0.0           0.0            0.0  Autumn   \n",
       "8038                      0.0           0.0            0.0  Autumn   \n",
       "8039                      0.0           0.0            0.0  Autumn   \n",
       "\n",
       "         Holiday Functioning Day  \n",
       "0     No Holiday             Yes  \n",
       "1     No Holiday             Yes  \n",
       "2     No Holiday             Yes  \n",
       "3     No Holiday             Yes  \n",
       "4     No Holiday             Yes  \n",
       "...          ...             ...  \n",
       "8035  No Holiday             Yes  \n",
       "8036  No Holiday             Yes  \n",
       "8037  No Holiday             Yes  \n",
       "8038  No Holiday             Yes  \n",
       "8039  No Holiday             Yes  \n",
       "\n",
       "[8040 rows x 14 columns]"
      ]
     },
     "execution_count": 28,
     "metadata": {},
     "output_type": "execute_result"
    }
   ],
   "source": [
    "df"
   ]
  },
  {
   "cell_type": "code",
   "execution_count": 29,
   "id": "6724ed1a",
   "metadata": {},
   "outputs": [
    {
     "data": {
      "text/html": [
       "<div>\n",
       "<style scoped>\n",
       "    .dataframe tbody tr th:only-of-type {\n",
       "        vertical-align: middle;\n",
       "    }\n",
       "\n",
       "    .dataframe tbody tr th {\n",
       "        vertical-align: top;\n",
       "    }\n",
       "\n",
       "    .dataframe thead th {\n",
       "        text-align: right;\n",
       "    }\n",
       "</style>\n",
       "<table border=\"1\" class=\"dataframe\">\n",
       "  <thead>\n",
       "    <tr style=\"text-align: right;\">\n",
       "      <th></th>\n",
       "      <th>Rented Bike Count</th>\n",
       "      <th>Hour</th>\n",
       "      <th>Temperature(째C)</th>\n",
       "      <th>Humidity(%)</th>\n",
       "      <th>Wind speed (m/s)</th>\n",
       "      <th>Visibility (10m)</th>\n",
       "      <th>Dew point temperature(째C)</th>\n",
       "      <th>Solar Radiation (MJ/m2)</th>\n",
       "      <th>Rainfall(mm)</th>\n",
       "      <th>Snowfall (cm)</th>\n",
       "    </tr>\n",
       "  </thead>\n",
       "  <tbody>\n",
       "    <tr>\n",
       "      <th>Rented Bike Count</th>\n",
       "      <td>1.000000</td>\n",
       "      <td>0.410766</td>\n",
       "      <td>0.509926</td>\n",
       "      <td>-0.188578</td>\n",
       "      <td>0.108666</td>\n",
       "      <td>0.196718</td>\n",
       "      <td>0.398034</td>\n",
       "      <td>0.265525</td>\n",
       "      <td>-0.123920</td>\n",
       "      <td>-0.150621</td>\n",
       "    </tr>\n",
       "    <tr>\n",
       "      <th>Hour</th>\n",
       "      <td>0.410766</td>\n",
       "      <td>1.000000</td>\n",
       "      <td>0.104423</td>\n",
       "      <td>-0.239905</td>\n",
       "      <td>0.262716</td>\n",
       "      <td>0.103468</td>\n",
       "      <td>0.002658</td>\n",
       "      <td>0.148370</td>\n",
       "      <td>0.009635</td>\n",
       "      <td>-0.027758</td>\n",
       "    </tr>\n",
       "    <tr>\n",
       "      <th>Temperature(째C)</th>\n",
       "      <td>0.509926</td>\n",
       "      <td>0.104423</td>\n",
       "      <td>1.000000</td>\n",
       "      <td>0.157715</td>\n",
       "      <td>-0.057526</td>\n",
       "      <td>0.030744</td>\n",
       "      <td>0.851336</td>\n",
       "      <td>0.324773</td>\n",
       "      <td>0.046247</td>\n",
       "      <td>-0.226080</td>\n",
       "    </tr>\n",
       "    <tr>\n",
       "      <th>Humidity(%)</th>\n",
       "      <td>-0.188578</td>\n",
       "      <td>-0.239905</td>\n",
       "      <td>0.157715</td>\n",
       "      <td>1.000000</td>\n",
       "      <td>-0.338562</td>\n",
       "      <td>-0.537763</td>\n",
       "      <td>0.535527</td>\n",
       "      <td>-0.465179</td>\n",
       "      <td>0.241985</td>\n",
       "      <td>0.080777</td>\n",
       "    </tr>\n",
       "    <tr>\n",
       "      <th>Wind speed (m/s)</th>\n",
       "      <td>0.108666</td>\n",
       "      <td>0.262716</td>\n",
       "      <td>-0.057526</td>\n",
       "      <td>-0.338562</td>\n",
       "      <td>1.000000</td>\n",
       "      <td>0.155340</td>\n",
       "      <td>-0.191530</td>\n",
       "      <td>0.312122</td>\n",
       "      <td>-0.044542</td>\n",
       "      <td>-0.005876</td>\n",
       "    </tr>\n",
       "    <tr>\n",
       "      <th>Visibility (10m)</th>\n",
       "      <td>0.196718</td>\n",
       "      <td>0.103468</td>\n",
       "      <td>0.030744</td>\n",
       "      <td>-0.537763</td>\n",
       "      <td>0.155340</td>\n",
       "      <td>1.000000</td>\n",
       "      <td>-0.174204</td>\n",
       "      <td>0.145593</td>\n",
       "      <td>-0.178202</td>\n",
       "      <td>-0.110523</td>\n",
       "    </tr>\n",
       "    <tr>\n",
       "      <th>Dew point temperature(째C)</th>\n",
       "      <td>0.398034</td>\n",
       "      <td>0.002658</td>\n",
       "      <td>0.851336</td>\n",
       "      <td>0.535527</td>\n",
       "      <td>-0.191530</td>\n",
       "      <td>-0.174204</td>\n",
       "      <td>1.000000</td>\n",
       "      <td>0.093286</td>\n",
       "      <td>0.125273</td>\n",
       "      <td>-0.179787</td>\n",
       "    </tr>\n",
       "    <tr>\n",
       "      <th>Solar Radiation (MJ/m2)</th>\n",
       "      <td>0.265525</td>\n",
       "      <td>0.148370</td>\n",
       "      <td>0.324773</td>\n",
       "      <td>-0.465179</td>\n",
       "      <td>0.312122</td>\n",
       "      <td>0.145593</td>\n",
       "      <td>0.093286</td>\n",
       "      <td>1.000000</td>\n",
       "      <td>-0.077066</td>\n",
       "      <td>-0.078547</td>\n",
       "    </tr>\n",
       "    <tr>\n",
       "      <th>Rainfall(mm)</th>\n",
       "      <td>-0.123920</td>\n",
       "      <td>0.009635</td>\n",
       "      <td>0.046247</td>\n",
       "      <td>0.241985</td>\n",
       "      <td>-0.044542</td>\n",
       "      <td>-0.178202</td>\n",
       "      <td>0.125273</td>\n",
       "      <td>-0.077066</td>\n",
       "      <td>1.000000</td>\n",
       "      <td>-0.007033</td>\n",
       "    </tr>\n",
       "    <tr>\n",
       "      <th>Snowfall (cm)</th>\n",
       "      <td>-0.150621</td>\n",
       "      <td>-0.027758</td>\n",
       "      <td>-0.226080</td>\n",
       "      <td>0.080777</td>\n",
       "      <td>-0.005876</td>\n",
       "      <td>-0.110523</td>\n",
       "      <td>-0.179787</td>\n",
       "      <td>-0.078547</td>\n",
       "      <td>-0.007033</td>\n",
       "      <td>1.000000</td>\n",
       "    </tr>\n",
       "  </tbody>\n",
       "</table>\n",
       "</div>"
      ],
      "text/plain": [
       "                           Rented Bike Count      Hour  Temperature(째C)  \\\n",
       "Rented Bike Count                   1.000000  0.410766         0.509926   \n",
       "Hour                                0.410766  1.000000         0.104423   \n",
       "Temperature(째C)                     0.509926  0.104423         1.000000   \n",
       "Humidity(%)                        -0.188578 -0.239905         0.157715   \n",
       "Wind speed (m/s)                    0.108666  0.262716        -0.057526   \n",
       "Visibility (10m)                    0.196718  0.103468         0.030744   \n",
       "Dew point temperature(째C)           0.398034  0.002658         0.851336   \n",
       "Solar Radiation (MJ/m2)             0.265525  0.148370         0.324773   \n",
       "Rainfall(mm)                       -0.123920  0.009635         0.046247   \n",
       "Snowfall (cm)                      -0.150621 -0.027758        -0.226080   \n",
       "\n",
       "                           Humidity(%)  Wind speed (m/s)  Visibility (10m)  \\\n",
       "Rented Bike Count            -0.188578          0.108666          0.196718   \n",
       "Hour                         -0.239905          0.262716          0.103468   \n",
       "Temperature(째C)               0.157715         -0.057526          0.030744   \n",
       "Humidity(%)                   1.000000         -0.338562         -0.537763   \n",
       "Wind speed (m/s)             -0.338562          1.000000          0.155340   \n",
       "Visibility (10m)             -0.537763          0.155340          1.000000   \n",
       "Dew point temperature(째C)     0.535527         -0.191530         -0.174204   \n",
       "Solar Radiation (MJ/m2)      -0.465179          0.312122          0.145593   \n",
       "Rainfall(mm)                  0.241985         -0.044542         -0.178202   \n",
       "Snowfall (cm)                 0.080777         -0.005876         -0.110523   \n",
       "\n",
       "                           Dew point temperature(째C)  Solar Radiation (MJ/m2)  \\\n",
       "Rented Bike Count                           0.398034                 0.265525   \n",
       "Hour                                        0.002658                 0.148370   \n",
       "Temperature(째C)                             0.851336                 0.324773   \n",
       "Humidity(%)                                 0.535527                -0.465179   \n",
       "Wind speed (m/s)                           -0.191530                 0.312122   \n",
       "Visibility (10m)                           -0.174204                 0.145593   \n",
       "Dew point temperature(째C)                   1.000000                 0.093286   \n",
       "Solar Radiation (MJ/m2)                     0.093286                 1.000000   \n",
       "Rainfall(mm)                                0.125273                -0.077066   \n",
       "Snowfall (cm)                              -0.179787                -0.078547   \n",
       "\n",
       "                           Rainfall(mm)  Snowfall (cm)  \n",
       "Rented Bike Count             -0.123920      -0.150621  \n",
       "Hour                           0.009635      -0.027758  \n",
       "Temperature(째C)                0.046247      -0.226080  \n",
       "Humidity(%)                    0.241985       0.080777  \n",
       "Wind speed (m/s)              -0.044542      -0.005876  \n",
       "Visibility (10m)              -0.178202      -0.110523  \n",
       "Dew point temperature(째C)      0.125273      -0.179787  \n",
       "Solar Radiation (MJ/m2)       -0.077066      -0.078547  \n",
       "Rainfall(mm)                   1.000000      -0.007033  \n",
       "Snowfall (cm)                 -0.007033       1.000000  "
      ]
     },
     "execution_count": 29,
     "metadata": {},
     "output_type": "execute_result"
    }
   ],
   "source": [
    "df.corr()"
   ]
  },
  {
   "cell_type": "code",
   "execution_count": 30,
   "id": "78826340",
   "metadata": {},
   "outputs": [
    {
     "data": {
      "text/plain": [
       "Text(0.5, 1.0, 'Correlation heatmap')"
      ]
     },
     "execution_count": 30,
     "metadata": {},
     "output_type": "execute_result"
    },
    {
     "data": {
      "image/png": "[encoded data removed]",
      "text/plain": [
       "<Figure size 720x504 with 2 Axes>"
      ]
     },
     "metadata": {
      "image/png": {
       "height": 561,
       "width": 684
      },
      "needs_background": "light"
     },
     "output_type": "display_data"
    }
   ],
   "source": [
    "plt.figure(figsize=(10,7)) #사이즈\n",
    "sns.heatmap(df.corr(), annot=True)\n",
    "plt.title(\"Correlation heatmap\", fontsize=20) "
   ]
  },
  {
   "cell_type": "code",
   "execution_count": 31,
   "id": "62981913",
   "metadata": {
    "scrolled": true
   },
   "outputs": [
    {
     "data": {
      "text/html": [
       "<div>\n",
       "<style scoped>\n",
       "    .dataframe tbody tr th:only-of-type {\n",
       "        vertical-align: middle;\n",
       "    }\n",
       "\n",
       "    .dataframe tbody tr th {\n",
       "        vertical-align: top;\n",
       "    }\n",
       "\n",
       "    .dataframe thead th {\n",
       "        text-align: right;\n",
       "    }\n",
       "</style>\n",
       "<table border=\"1\" class=\"dataframe\">\n",
       "  <thead>\n",
       "    <tr style=\"text-align: right;\">\n",
       "      <th></th>\n",
       "      <th>Date</th>\n",
       "      <th>Rented Bike Count</th>\n",
       "      <th>Hour</th>\n",
       "      <th>Temperature(째C)</th>\n",
       "      <th>Humidity(%)</th>\n",
       "      <th>Wind speed (m/s)</th>\n",
       "      <th>Visibility (10m)</th>\n",
       "      <th>Dew point temperature(째C)</th>\n",
       "      <th>Solar Radiation (MJ/m2)</th>\n",
       "      <th>Rainfall(mm)</th>\n",
       "      <th>Snowfall (cm)</th>\n",
       "      <th>Seasons</th>\n",
       "      <th>Holiday</th>\n",
       "      <th>Functioning Day</th>\n",
       "    </tr>\n",
       "  </thead>\n",
       "  <tbody>\n",
       "    <tr>\n",
       "      <th>0</th>\n",
       "      <td>2017-01-12</td>\n",
       "      <td>254</td>\n",
       "      <td>0</td>\n",
       "      <td>-5.2</td>\n",
       "      <td>37</td>\n",
       "      <td>2.0</td>\n",
       "      <td>2000</td>\n",
       "      <td>-17.6</td>\n",
       "      <td>0.0</td>\n",
       "      <td>0.0</td>\n",
       "      <td>0.0</td>\n",
       "      <td>Winter</td>\n",
       "      <td>No Holiday</td>\n",
       "      <td>Yes</td>\n",
       "    </tr>\n",
       "    <tr>\n",
       "      <th>1</th>\n",
       "      <td>2017-01-12</td>\n",
       "      <td>204</td>\n",
       "      <td>1</td>\n",
       "      <td>-5.5</td>\n",
       "      <td>38</td>\n",
       "      <td>1.0</td>\n",
       "      <td>2000</td>\n",
       "      <td>-17.6</td>\n",
       "      <td>0.0</td>\n",
       "      <td>0.0</td>\n",
       "      <td>0.0</td>\n",
       "      <td>Winter</td>\n",
       "      <td>No Holiday</td>\n",
       "      <td>Yes</td>\n",
       "    </tr>\n",
       "    <tr>\n",
       "      <th>2</th>\n",
       "      <td>2017-01-12</td>\n",
       "      <td>173</td>\n",
       "      <td>2</td>\n",
       "      <td>-6.0</td>\n",
       "      <td>39</td>\n",
       "      <td>1.0</td>\n",
       "      <td>2000</td>\n",
       "      <td>-17.7</td>\n",
       "      <td>0.0</td>\n",
       "      <td>0.0</td>\n",
       "      <td>0.0</td>\n",
       "      <td>Winter</td>\n",
       "      <td>No Holiday</td>\n",
       "      <td>Yes</td>\n",
       "    </tr>\n",
       "    <tr>\n",
       "      <th>3</th>\n",
       "      <td>2017-01-12</td>\n",
       "      <td>107</td>\n",
       "      <td>3</td>\n",
       "      <td>-6.2</td>\n",
       "      <td>40</td>\n",
       "      <td>1.0</td>\n",
       "      <td>2000</td>\n",
       "      <td>-17.6</td>\n",
       "      <td>0.0</td>\n",
       "      <td>0.0</td>\n",
       "      <td>0.0</td>\n",
       "      <td>Winter</td>\n",
       "      <td>No Holiday</td>\n",
       "      <td>Yes</td>\n",
       "    </tr>\n",
       "    <tr>\n",
       "      <th>4</th>\n",
       "      <td>2017-01-12</td>\n",
       "      <td>78</td>\n",
       "      <td>4</td>\n",
       "      <td>-6.0</td>\n",
       "      <td>36</td>\n",
       "      <td>2.0</td>\n",
       "      <td>2000</td>\n",
       "      <td>-18.6</td>\n",
       "      <td>0.0</td>\n",
       "      <td>0.0</td>\n",
       "      <td>0.0</td>\n",
       "      <td>Winter</td>\n",
       "      <td>No Holiday</td>\n",
       "      <td>Yes</td>\n",
       "    </tr>\n",
       "    <tr>\n",
       "      <th>...</th>\n",
       "      <td>...</td>\n",
       "      <td>...</td>\n",
       "      <td>...</td>\n",
       "      <td>...</td>\n",
       "      <td>...</td>\n",
       "      <td>...</td>\n",
       "      <td>...</td>\n",
       "      <td>...</td>\n",
       "      <td>...</td>\n",
       "      <td>...</td>\n",
       "      <td>...</td>\n",
       "      <td>...</td>\n",
       "      <td>...</td>\n",
       "      <td>...</td>\n",
       "    </tr>\n",
       "    <tr>\n",
       "      <th>8035</th>\n",
       "      <td>2018-10-31</td>\n",
       "      <td>1507</td>\n",
       "      <td>19</td>\n",
       "      <td>8.4</td>\n",
       "      <td>53</td>\n",
       "      <td>2.0</td>\n",
       "      <td>2000</td>\n",
       "      <td>-0.6</td>\n",
       "      <td>0.0</td>\n",
       "      <td>0.0</td>\n",
       "      <td>0.0</td>\n",
       "      <td>Autumn</td>\n",
       "      <td>No Holiday</td>\n",
       "      <td>Yes</td>\n",
       "    </tr>\n",
       "    <tr>\n",
       "      <th>8036</th>\n",
       "      <td>2018-10-31</td>\n",
       "      <td>1176</td>\n",
       "      <td>20</td>\n",
       "      <td>7.6</td>\n",
       "      <td>59</td>\n",
       "      <td>1.0</td>\n",
       "      <td>2000</td>\n",
       "      <td>0.0</td>\n",
       "      <td>0.0</td>\n",
       "      <td>0.0</td>\n",
       "      <td>0.0</td>\n",
       "      <td>Autumn</td>\n",
       "      <td>No Holiday</td>\n",
       "      <td>Yes</td>\n",
       "    </tr>\n",
       "    <tr>\n",
       "      <th>8037</th>\n",
       "      <td>2018-10-31</td>\n",
       "      <td>1069</td>\n",
       "      <td>21</td>\n",
       "      <td>7.6</td>\n",
       "      <td>59</td>\n",
       "      <td>3.0</td>\n",
       "      <td>1929</td>\n",
       "      <td>0.0</td>\n",
       "      <td>0.0</td>\n",
       "      <td>0.0</td>\n",
       "      <td>0.0</td>\n",
       "      <td>Autumn</td>\n",
       "      <td>No Holiday</td>\n",
       "      <td>Yes</td>\n",
       "    </tr>\n",
       "    <tr>\n",
       "      <th>8038</th>\n",
       "      <td>2018-10-31</td>\n",
       "      <td>1088</td>\n",
       "      <td>22</td>\n",
       "      <td>6.8</td>\n",
       "      <td>58</td>\n",
       "      <td>2.0</td>\n",
       "      <td>1936</td>\n",
       "      <td>-0.9</td>\n",
       "      <td>0.0</td>\n",
       "      <td>0.0</td>\n",
       "      <td>0.0</td>\n",
       "      <td>Autumn</td>\n",
       "      <td>No Holiday</td>\n",
       "      <td>Yes</td>\n",
       "    </tr>\n",
       "    <tr>\n",
       "      <th>8039</th>\n",
       "      <td>2018-10-31</td>\n",
       "      <td>798</td>\n",
       "      <td>23</td>\n",
       "      <td>6.4</td>\n",
       "      <td>60</td>\n",
       "      <td>2.0</td>\n",
       "      <td>1930</td>\n",
       "      <td>-0.8</td>\n",
       "      <td>0.0</td>\n",
       "      <td>0.0</td>\n",
       "      <td>0.0</td>\n",
       "      <td>Autumn</td>\n",
       "      <td>No Holiday</td>\n",
       "      <td>Yes</td>\n",
       "    </tr>\n",
       "  </tbody>\n",
       "</table>\n",
       "<p>8040 rows × 14 columns</p>\n",
       "</div>"
      ],
      "text/plain": [
       "           Date  Rented Bike Count  Hour  Temperature(째C)  Humidity(%)  \\\n",
       "0    2017-01-12                254     0             -5.2           37   \n",
       "1    2017-01-12                204     1             -5.5           38   \n",
       "2    2017-01-12                173     2             -6.0           39   \n",
       "3    2017-01-12                107     3             -6.2           40   \n",
       "4    2017-01-12                 78     4             -6.0           36   \n",
       "...         ...                ...   ...              ...          ...   \n",
       "8035 2018-10-31               1507    19              8.4           53   \n",
       "8036 2018-10-31               1176    20              7.6           59   \n",
       "8037 2018-10-31               1069    21              7.6           59   \n",
       "8038 2018-10-31               1088    22              6.8           58   \n",
       "8039 2018-10-31                798    23              6.4           60   \n",
       "\n",
       "      Wind speed (m/s)  Visibility (10m)  Dew point temperature(째C)  \\\n",
       "0                  2.0              2000                      -17.6   \n",
       "1                  1.0              2000                      -17.6   \n",
       "2                  1.0              2000                      -17.7   \n",
       "3                  1.0              2000                      -17.6   \n",
       "4                  2.0              2000                      -18.6   \n",
       "...                ...               ...                        ...   \n",
       "8035               2.0              2000                       -0.6   \n",
       "8036               1.0              2000                        0.0   \n",
       "8037               3.0              1929                        0.0   \n",
       "8038               2.0              1936                       -0.9   \n",
       "8039               2.0              1930                       -0.8   \n",
       "\n",
       "      Solar Radiation (MJ/m2)  Rainfall(mm)  Snowfall (cm) Seasons  \\\n",
       "0                         0.0           0.0            0.0  Winter   \n",
       "1                         0.0           0.0            0.0  Winter   \n",
       "2                         0.0           0.0            0.0  Winter   \n",
       "3                         0.0           0.0            0.0  Winter   \n",
       "4                         0.0           0.0            0.0  Winter   \n",
       "...                       ...           ...            ...     ...   \n",
       "8035                      0.0           0.0            0.0  Autumn   \n",
       "8036                      0.0           0.0            0.0  Autumn   \n",
       "8037                      0.0           0.0            0.0  Autumn   \n",
       "8038                      0.0           0.0            0.0  Autumn   \n",
       "8039                      0.0           0.0            0.0  Autumn   \n",
       "\n",
       "         Holiday Functioning Day  \n",
       "0     No Holiday             Yes  \n",
       "1     No Holiday             Yes  \n",
       "2     No Holiday             Yes  \n",
       "3     No Holiday             Yes  \n",
       "4     No Holiday             Yes  \n",
       "...          ...             ...  \n",
       "8035  No Holiday             Yes  \n",
       "8036  No Holiday             Yes  \n",
       "8037  No Holiday             Yes  \n",
       "8038  No Holiday             Yes  \n",
       "8039  No Holiday             Yes  \n",
       "\n",
       "[8040 rows x 14 columns]"
      ]
     },
     "execution_count": 31,
     "metadata": {},
     "output_type": "execute_result"
    }
   ],
   "source": [
    "df_train=df\n",
    "df_train"
   ]
  },
  {
   "cell_type": "code",
   "execution_count": 32,
   "id": "7a9f8820",
   "metadata": {},
   "outputs": [
    {
     "data": {
      "text/plain": [
       "Date                          0\n",
       "Hour                          0\n",
       "Humidity(%)                   0\n",
       "Visibility (10m)              0\n",
       "Dew point temperature(째C)     0\n",
       "Solar Radiation (MJ/m2)       0\n",
       "Rainfall(mm)                  0\n",
       "Snowfall (cm)                 0\n",
       "Holiday                       0\n",
       "Functioning Day               0\n",
       "Wind speed (m/s)             74\n",
       "Seasons                      74\n",
       "Temperature(째C)              76\n",
       "dtype: int64"
      ]
     },
     "execution_count": 32,
     "metadata": {},
     "output_type": "execute_result"
    }
   ],
   "source": [
    "test.isna().sum(axis=0).sort_values()"
   ]
  },
  {
   "cell_type": "code",
   "execution_count": 33,
   "id": "ff650a66",
   "metadata": {},
   "outputs": [],
   "source": [
    "df1=pd.DataFrame(test)"
   ]
  },
  {
   "cell_type": "code",
   "execution_count": 34,
   "id": "702c3e46",
   "metadata": {},
   "outputs": [
    {
     "data": {
      "text/plain": [
       "0     2018-01-11\n",
       "1     2018-01-11\n",
       "2     2018-01-11\n",
       "3     2018-01-11\n",
       "4     2018-01-11\n",
       "         ...    \n",
       "715   2018-11-30\n",
       "716   2018-11-30\n",
       "717   2018-11-30\n",
       "718   2018-11-30\n",
       "719   2018-11-30\n",
       "Name: Date, Length: 720, dtype: datetime64[ns]"
      ]
     },
     "execution_count": 34,
     "metadata": {},
     "output_type": "execute_result"
    }
   ],
   "source": [
    "df1['Date']=pd.to_datetime(df1['Date'])\n",
    "df1[\"Date\"]"
   ]
  },
  {
   "cell_type": "code",
   "execution_count": 35,
   "id": "c7315fc7",
   "metadata": {},
   "outputs": [],
   "source": [
    "def get_Seasons(month):\n",
    "    if 3 <= month <= 5:\n",
    "        return 'Spring'\n",
    "    elif 6 <= month <= 8:\n",
    "        return 'Summer'\n",
    "    elif 9 <= month <= 11:\n",
    "        return 'Autumn'\n",
    "    else:\n",
    "        return 'Winter'"
   ]
  },
  {
   "cell_type": "code",
   "execution_count": 36,
   "id": "f080e75f",
   "metadata": {},
   "outputs": [],
   "source": [
    "df1['Seasons'] = df.apply(lambda row: row['Seasons'] if pd.notnull(row['Seasons']) else get_Seasons(row['Date'].month), axis=1)"
   ]
  },
  {
   "cell_type": "code",
   "execution_count": 37,
   "id": "51a1d5c7",
   "metadata": {},
   "outputs": [
    {
     "data": {
      "text/plain": [
       "Date                          0\n",
       "Hour                          0\n",
       "Humidity(%)                   0\n",
       "Visibility (10m)              0\n",
       "Dew point temperature(째C)     0\n",
       "Solar Radiation (MJ/m2)       0\n",
       "Rainfall(mm)                  0\n",
       "Snowfall (cm)                 0\n",
       "Seasons                       0\n",
       "Holiday                       0\n",
       "Functioning Day               0\n",
       "Wind speed (m/s)             74\n",
       "Temperature(째C)              76\n",
       "dtype: int64"
      ]
     },
     "execution_count": 37,
     "metadata": {},
     "output_type": "execute_result"
    }
   ],
   "source": [
    "df1.isna().sum(axis=0).sort_values()"
   ]
  },
  {
   "cell_type": "code",
   "execution_count": 38,
   "id": "7fa44d40",
   "metadata": {},
   "outputs": [],
   "source": [
    "imputer = IterativeImputer()\n",
    "imputed_arr=imputer.fit_transform(test[['Humidity(%)', 'Dew point temperature(째C)', 'Wind speed (m/s)']])\n",
    "df1[\"Wind speed (m/s)\"]=pd.DataFrame(imputed_arr, columns=['Humidity(%)', 'Dew point temperature(째C)', 'Wind speed (m/s)'])[\"Wind speed (m/s)\"].round()"
   ]
  },
  {
   "cell_type": "code",
   "execution_count": 39,
   "id": "40bcd91c",
   "metadata": {},
   "outputs": [],
   "source": [
    "df1[\"Temperature(째C)\"]=test[\"Temperature(째C)\"].fillna(round(test[\"Temperature(째C)\"].mode()[0]))"
   ]
  },
  {
   "cell_type": "code",
   "execution_count": 40,
   "id": "3ea92948",
   "metadata": {},
   "outputs": [
    {
     "data": {
      "text/plain": [
       "Date                         0\n",
       "Hour                         0\n",
       "Temperature(째C)              0\n",
       "Humidity(%)                  0\n",
       "Wind speed (m/s)             0\n",
       "Visibility (10m)             0\n",
       "Dew point temperature(째C)    0\n",
       "Solar Radiation (MJ/m2)      0\n",
       "Rainfall(mm)                 0\n",
       "Snowfall (cm)                0\n",
       "Seasons                      0\n",
       "Holiday                      0\n",
       "Functioning Day              0\n",
       "dtype: int64"
      ]
     },
     "execution_count": 40,
     "metadata": {},
     "output_type": "execute_result"
    }
   ],
   "source": [
    "df1.isna().sum(axis=0).sort_values()"
   ]
  },
  {
   "cell_type": "code",
   "execution_count": 41,
   "id": "e069cb70",
   "metadata": {},
   "outputs": [
    {
     "data": {
      "text/html": [
       "<div>\n",
       "<style scoped>\n",
       "    .dataframe tbody tr th:only-of-type {\n",
       "        vertical-align: middle;\n",
       "    }\n",
       "\n",
       "    .dataframe tbody tr th {\n",
       "        vertical-align: top;\n",
       "    }\n",
       "\n",
       "    .dataframe thead th {\n",
       "        text-align: right;\n",
       "    }\n",
       "</style>\n",
       "<table border=\"1\" class=\"dataframe\">\n",
       "  <thead>\n",
       "    <tr style=\"text-align: right;\">\n",
       "      <th></th>\n",
       "      <th>Date</th>\n",
       "      <th>Hour</th>\n",
       "      <th>Temperature(째C)</th>\n",
       "      <th>Humidity(%)</th>\n",
       "      <th>Wind speed (m/s)</th>\n",
       "      <th>Visibility (10m)</th>\n",
       "      <th>Dew point temperature(째C)</th>\n",
       "      <th>Solar Radiation (MJ/m2)</th>\n",
       "      <th>Rainfall(mm)</th>\n",
       "      <th>Snowfall (cm)</th>\n",
       "      <th>Seasons</th>\n",
       "      <th>Holiday</th>\n",
       "      <th>Functioning Day</th>\n",
       "    </tr>\n",
       "  </thead>\n",
       "  <tbody>\n",
       "    <tr>\n",
       "      <th>0</th>\n",
       "      <td>2018-01-11</td>\n",
       "      <td>0</td>\n",
       "      <td>5.7</td>\n",
       "      <td>62</td>\n",
       "      <td>2.0</td>\n",
       "      <td>1909</td>\n",
       "      <td>-1.0</td>\n",
       "      <td>0.0</td>\n",
       "      <td>0.0</td>\n",
       "      <td>0.0</td>\n",
       "      <td>Winter</td>\n",
       "      <td>No Holiday</td>\n",
       "      <td>Yes</td>\n",
       "    </tr>\n",
       "    <tr>\n",
       "      <th>1</th>\n",
       "      <td>2018-01-11</td>\n",
       "      <td>1</td>\n",
       "      <td>5.1</td>\n",
       "      <td>65</td>\n",
       "      <td>2.0</td>\n",
       "      <td>1932</td>\n",
       "      <td>-0.9</td>\n",
       "      <td>0.0</td>\n",
       "      <td>0.0</td>\n",
       "      <td>0.0</td>\n",
       "      <td>Winter</td>\n",
       "      <td>No Holiday</td>\n",
       "      <td>Yes</td>\n",
       "    </tr>\n",
       "    <tr>\n",
       "      <th>2</th>\n",
       "      <td>2018-01-11</td>\n",
       "      <td>2</td>\n",
       "      <td>4.4</td>\n",
       "      <td>64</td>\n",
       "      <td>1.0</td>\n",
       "      <td>2000</td>\n",
       "      <td>-1.8</td>\n",
       "      <td>0.0</td>\n",
       "      <td>0.0</td>\n",
       "      <td>0.0</td>\n",
       "      <td>Winter</td>\n",
       "      <td>No Holiday</td>\n",
       "      <td>Yes</td>\n",
       "    </tr>\n",
       "    <tr>\n",
       "      <th>3</th>\n",
       "      <td>2018-01-11</td>\n",
       "      <td>3</td>\n",
       "      <td>4.2</td>\n",
       "      <td>65</td>\n",
       "      <td>1.0</td>\n",
       "      <td>1962</td>\n",
       "      <td>-1.8</td>\n",
       "      <td>0.0</td>\n",
       "      <td>0.0</td>\n",
       "      <td>0.0</td>\n",
       "      <td>Winter</td>\n",
       "      <td>No Holiday</td>\n",
       "      <td>Yes</td>\n",
       "    </tr>\n",
       "    <tr>\n",
       "      <th>4</th>\n",
       "      <td>2018-01-11</td>\n",
       "      <td>4</td>\n",
       "      <td>3.6</td>\n",
       "      <td>70</td>\n",
       "      <td>1.0</td>\n",
       "      <td>1934</td>\n",
       "      <td>-1.3</td>\n",
       "      <td>0.0</td>\n",
       "      <td>0.0</td>\n",
       "      <td>0.0</td>\n",
       "      <td>Winter</td>\n",
       "      <td>No Holiday</td>\n",
       "      <td>Yes</td>\n",
       "    </tr>\n",
       "    <tr>\n",
       "      <th>...</th>\n",
       "      <td>...</td>\n",
       "      <td>...</td>\n",
       "      <td>...</td>\n",
       "      <td>...</td>\n",
       "      <td>...</td>\n",
       "      <td>...</td>\n",
       "      <td>...</td>\n",
       "      <td>...</td>\n",
       "      <td>...</td>\n",
       "      <td>...</td>\n",
       "      <td>...</td>\n",
       "      <td>...</td>\n",
       "      <td>...</td>\n",
       "    </tr>\n",
       "    <tr>\n",
       "      <th>715</th>\n",
       "      <td>2018-11-30</td>\n",
       "      <td>19</td>\n",
       "      <td>4.2</td>\n",
       "      <td>34</td>\n",
       "      <td>3.0</td>\n",
       "      <td>1894</td>\n",
       "      <td>-10.3</td>\n",
       "      <td>0.0</td>\n",
       "      <td>0.0</td>\n",
       "      <td>0.0</td>\n",
       "      <td>Winter</td>\n",
       "      <td>No Holiday</td>\n",
       "      <td>Yes</td>\n",
       "    </tr>\n",
       "    <tr>\n",
       "      <th>716</th>\n",
       "      <td>2018-11-30</td>\n",
       "      <td>20</td>\n",
       "      <td>3.4</td>\n",
       "      <td>37</td>\n",
       "      <td>2.0</td>\n",
       "      <td>2000</td>\n",
       "      <td>-9.9</td>\n",
       "      <td>0.0</td>\n",
       "      <td>0.0</td>\n",
       "      <td>0.0</td>\n",
       "      <td>Winter</td>\n",
       "      <td>No Holiday</td>\n",
       "      <td>Yes</td>\n",
       "    </tr>\n",
       "    <tr>\n",
       "      <th>717</th>\n",
       "      <td>2018-11-30</td>\n",
       "      <td>21</td>\n",
       "      <td>2.6</td>\n",
       "      <td>39</td>\n",
       "      <td>0.0</td>\n",
       "      <td>1968</td>\n",
       "      <td>-9.9</td>\n",
       "      <td>0.0</td>\n",
       "      <td>0.0</td>\n",
       "      <td>0.0</td>\n",
       "      <td>Winter</td>\n",
       "      <td>No Holiday</td>\n",
       "      <td>Yes</td>\n",
       "    </tr>\n",
       "    <tr>\n",
       "      <th>718</th>\n",
       "      <td>2018-11-30</td>\n",
       "      <td>22</td>\n",
       "      <td>2.1</td>\n",
       "      <td>41</td>\n",
       "      <td>1.0</td>\n",
       "      <td>1859</td>\n",
       "      <td>-9.8</td>\n",
       "      <td>0.0</td>\n",
       "      <td>0.0</td>\n",
       "      <td>0.0</td>\n",
       "      <td>Winter</td>\n",
       "      <td>No Holiday</td>\n",
       "      <td>Yes</td>\n",
       "    </tr>\n",
       "    <tr>\n",
       "      <th>719</th>\n",
       "      <td>2018-11-30</td>\n",
       "      <td>23</td>\n",
       "      <td>1.9</td>\n",
       "      <td>43</td>\n",
       "      <td>1.0</td>\n",
       "      <td>1909</td>\n",
       "      <td>-9.3</td>\n",
       "      <td>0.0</td>\n",
       "      <td>0.0</td>\n",
       "      <td>0.0</td>\n",
       "      <td>Winter</td>\n",
       "      <td>No Holiday</td>\n",
       "      <td>Yes</td>\n",
       "    </tr>\n",
       "  </tbody>\n",
       "</table>\n",
       "<p>720 rows × 13 columns</p>\n",
       "</div>"
      ],
      "text/plain": [
       "          Date  Hour  Temperature(째C)  Humidity(%)  Wind speed (m/s)  \\\n",
       "0   2018-01-11     0              5.7           62               2.0   \n",
       "1   2018-01-11     1              5.1           65               2.0   \n",
       "2   2018-01-11     2              4.4           64               1.0   \n",
       "3   2018-01-11     3              4.2           65               1.0   \n",
       "4   2018-01-11     4              3.6           70               1.0   \n",
       "..         ...   ...              ...          ...               ...   \n",
       "715 2018-11-30    19              4.2           34               3.0   \n",
       "716 2018-11-30    20              3.4           37               2.0   \n",
       "717 2018-11-30    21              2.6           39               0.0   \n",
       "718 2018-11-30    22              2.1           41               1.0   \n",
       "719 2018-11-30    23              1.9           43               1.0   \n",
       "\n",
       "     Visibility (10m)  Dew point temperature(째C)  Solar Radiation (MJ/m2)  \\\n",
       "0                1909                       -1.0                      0.0   \n",
       "1                1932                       -0.9                      0.0   \n",
       "2                2000                       -1.8                      0.0   \n",
       "3                1962                       -1.8                      0.0   \n",
       "4                1934                       -1.3                      0.0   \n",
       "..                ...                        ...                      ...   \n",
       "715              1894                      -10.3                      0.0   \n",
       "716              2000                       -9.9                      0.0   \n",
       "717              1968                       -9.9                      0.0   \n",
       "718              1859                       -9.8                      0.0   \n",
       "719              1909                       -9.3                      0.0   \n",
       "\n",
       "     Rainfall(mm)  Snowfall (cm) Seasons     Holiday Functioning Day  \n",
       "0             0.0            0.0  Winter  No Holiday             Yes  \n",
       "1             0.0            0.0  Winter  No Holiday             Yes  \n",
       "2             0.0            0.0  Winter  No Holiday             Yes  \n",
       "3             0.0            0.0  Winter  No Holiday             Yes  \n",
       "4             0.0            0.0  Winter  No Holiday             Yes  \n",
       "..            ...            ...     ...         ...             ...  \n",
       "715           0.0            0.0  Winter  No Holiday             Yes  \n",
       "716           0.0            0.0  Winter  No Holiday             Yes  \n",
       "717           0.0            0.0  Winter  No Holiday             Yes  \n",
       "718           0.0            0.0  Winter  No Holiday             Yes  \n",
       "719           0.0            0.0  Winter  No Holiday             Yes  \n",
       "\n",
       "[720 rows x 13 columns]"
      ]
     },
     "execution_count": 41,
     "metadata": {},
     "output_type": "execute_result"
    }
   ],
   "source": [
    "df1"
   ]
  },
  {
   "cell_type": "markdown",
   "id": "2751652a",
   "metadata": {},
   "source": [
    "## 2차 전처리"
   ]
  },
  {
   "cell_type": "code",
   "execution_count": 42,
   "id": "08998041",
   "metadata": {
    "scrolled": true
   },
   "outputs": [
    {
     "name": "stdout",
     "output_type": "stream",
     "text": [
      "           Date  Rented Bike Count  Hour  Temperature(째C)  Humidity(%)  \\\n",
      "0    2017-01-12                254     0             -5.2           37   \n",
      "1    2017-01-12                204     1             -5.5           38   \n",
      "2    2017-01-12                173     2             -6.0           39   \n",
      "3    2017-01-12                107     3             -6.2           40   \n",
      "4    2017-01-12                 78     4             -6.0           36   \n",
      "...         ...                ...   ...              ...          ...   \n",
      "8035 2018-10-31               1507    19              8.4           53   \n",
      "8036 2018-10-31               1176    20              7.6           59   \n",
      "8037 2018-10-31               1069    21              7.6           59   \n",
      "8038 2018-10-31               1088    22              6.8           58   \n",
      "8039 2018-10-31                798    23              6.4           60   \n",
      "\n",
      "      Wind speed (m/s)  Visibility (10m)  Dew point temperature(째C)  \\\n",
      "0                  2.0              2000                      -17.6   \n",
      "1                  1.0              2000                      -17.6   \n",
      "2                  1.0              2000                      -17.7   \n",
      "3                  1.0              2000                      -17.6   \n",
      "4                  2.0              2000                      -18.6   \n",
      "...                ...               ...                        ...   \n",
      "8035               2.0              2000                       -0.6   \n",
      "8036               1.0              2000                        0.0   \n",
      "8037               3.0              1929                        0.0   \n",
      "8038               2.0              1936                       -0.9   \n",
      "8039               2.0              1930                       -0.8   \n",
      "\n",
      "      Solar Radiation (MJ/m2)  Rainfall(mm)  Snowfall (cm) Seasons  \\\n",
      "0                         0.0           0.0            0.0  Winter   \n",
      "1                         0.0           0.0            0.0  Winter   \n",
      "2                         0.0           0.0            0.0  Winter   \n",
      "3                         0.0           0.0            0.0  Winter   \n",
      "4                         0.0           0.0            0.0  Winter   \n",
      "...                       ...           ...            ...     ...   \n",
      "8035                      0.0           0.0            0.0  Autumn   \n",
      "8036                      0.0           0.0            0.0  Autumn   \n",
      "8037                      0.0           0.0            0.0  Autumn   \n",
      "8038                      0.0           0.0            0.0  Autumn   \n",
      "8039                      0.0           0.0            0.0  Autumn   \n",
      "\n",
      "         Holiday Functioning Day  \n",
      "0     No Holiday             Yes  \n",
      "1     No Holiday             Yes  \n",
      "2     No Holiday             Yes  \n",
      "3     No Holiday             Yes  \n",
      "4     No Holiday             Yes  \n",
      "...          ...             ...  \n",
      "8035  No Holiday             Yes  \n",
      "8036  No Holiday             Yes  \n",
      "8037  No Holiday             Yes  \n",
      "8038  No Holiday             Yes  \n",
      "8039  No Holiday             Yes  \n",
      "\n",
      "[7817 rows x 14 columns]\n"
     ]
    }
   ],
   "source": [
    "value_to_delete = 0\n",
    "df = df.drop(df[df['Rented Bike Count'] == value_to_delete].index)\n",
    "print(df)"
   ]
  },
  {
   "cell_type": "code",
   "execution_count": 43,
   "id": "a08c1203",
   "metadata": {},
   "outputs": [
    {
     "data": {
      "text/plain": [
       "array([[0., 0., 0., ..., 0., 1., 1.],\n",
       "       [0., 0., 0., ..., 0., 1., 1.],\n",
       "       [0., 0., 0., ..., 0., 1., 1.],\n",
       "       ...,\n",
       "       [1., 0., 0., ..., 0., 1., 1.],\n",
       "       [1., 0., 0., ..., 0., 1., 1.],\n",
       "       [1., 0., 0., ..., 0., 1., 1.]])"
      ]
     },
     "execution_count": 43,
     "metadata": {},
     "output_type": "execute_result"
    }
   ],
   "source": [
    "from sklearn.preprocessing import OneHotEncoder\n",
    "ohe = OneHotEncoder(sparse_output=False)\n",
    "result_ohe = ohe.fit_transform(df[[\"Seasons\",\"Holiday\",\"Functioning Day\"]])\n",
    "result_ohe"
   ]
  },
  {
   "cell_type": "code",
   "execution_count": 44,
   "id": "5885e59c",
   "metadata": {},
   "outputs": [
    {
     "data": {
      "text/plain": [
       "array([[0., 0., 0., ..., 1., 0., 1.],\n",
       "       [0., 0., 0., ..., 1., 0., 1.],\n",
       "       [0., 0., 0., ..., 1., 0., 1.],\n",
       "       ...,\n",
       "       [0., 0., 0., ..., 1., 0., 1.],\n",
       "       [0., 0., 0., ..., 1., 0., 1.],\n",
       "       [0., 0., 0., ..., 1., 0., 1.]])"
      ]
     },
     "execution_count": 44,
     "metadata": {},
     "output_type": "execute_result"
    }
   ],
   "source": [
    "ohe1 = OneHotEncoder(sparse_output=False)\n",
    "result_ohe1 = ohe1.fit_transform(df1[[\"Seasons\",\"Holiday\",\"Functioning Day\"]])\n",
    "result_ohe1"
   ]
  },
  {
   "cell_type": "code",
   "execution_count": 45,
   "id": "66eaec17",
   "metadata": {},
   "outputs": [],
   "source": [
    "df_ohe1 = pd.DataFrame(result_ohe, columns=ohe.get_feature_names_out([\"Seasons\",\"Holiday\",\"Functioning Day\"]))\n",
    "df_ohe2 =  pd.DataFrame(result_ohe1, columns=ohe1.get_feature_names_out([\"Seasons\",\"Holiday\",\"Functioning Day\"]))"
   ]
  },
  {
   "cell_type": "code",
   "execution_count": 46,
   "id": "eebce948",
   "metadata": {},
   "outputs": [
    {
     "data": {
      "text/html": [
       "<div>\n",
       "<style scoped>\n",
       "    .dataframe tbody tr th:only-of-type {\n",
       "        vertical-align: middle;\n",
       "    }\n",
       "\n",
       "    .dataframe tbody tr th {\n",
       "        vertical-align: top;\n",
       "    }\n",
       "\n",
       "    .dataframe thead th {\n",
       "        text-align: right;\n",
       "    }\n",
       "</style>\n",
       "<table border=\"1\" class=\"dataframe\">\n",
       "  <thead>\n",
       "    <tr style=\"text-align: right;\">\n",
       "      <th></th>\n",
       "      <th>Seasons_Autumn</th>\n",
       "      <th>Seasons_Spring</th>\n",
       "      <th>Seasons_Summer</th>\n",
       "      <th>Seasons_Winter</th>\n",
       "      <th>Holiday_Holiday</th>\n",
       "      <th>Holiday_No Holiday</th>\n",
       "      <th>Functioning Day_Yes</th>\n",
       "    </tr>\n",
       "  </thead>\n",
       "  <tbody>\n",
       "    <tr>\n",
       "      <th>0</th>\n",
       "      <td>0.0</td>\n",
       "      <td>0.0</td>\n",
       "      <td>0.0</td>\n",
       "      <td>1.0</td>\n",
       "      <td>0.0</td>\n",
       "      <td>1.0</td>\n",
       "      <td>1.0</td>\n",
       "    </tr>\n",
       "    <tr>\n",
       "      <th>1</th>\n",
       "      <td>0.0</td>\n",
       "      <td>0.0</td>\n",
       "      <td>0.0</td>\n",
       "      <td>1.0</td>\n",
       "      <td>0.0</td>\n",
       "      <td>1.0</td>\n",
       "      <td>1.0</td>\n",
       "    </tr>\n",
       "    <tr>\n",
       "      <th>2</th>\n",
       "      <td>0.0</td>\n",
       "      <td>0.0</td>\n",
       "      <td>0.0</td>\n",
       "      <td>1.0</td>\n",
       "      <td>0.0</td>\n",
       "      <td>1.0</td>\n",
       "      <td>1.0</td>\n",
       "    </tr>\n",
       "    <tr>\n",
       "      <th>3</th>\n",
       "      <td>0.0</td>\n",
       "      <td>0.0</td>\n",
       "      <td>0.0</td>\n",
       "      <td>1.0</td>\n",
       "      <td>0.0</td>\n",
       "      <td>1.0</td>\n",
       "      <td>1.0</td>\n",
       "    </tr>\n",
       "    <tr>\n",
       "      <th>4</th>\n",
       "      <td>0.0</td>\n",
       "      <td>0.0</td>\n",
       "      <td>0.0</td>\n",
       "      <td>1.0</td>\n",
       "      <td>0.0</td>\n",
       "      <td>1.0</td>\n",
       "      <td>1.0</td>\n",
       "    </tr>\n",
       "    <tr>\n",
       "      <th>...</th>\n",
       "      <td>...</td>\n",
       "      <td>...</td>\n",
       "      <td>...</td>\n",
       "      <td>...</td>\n",
       "      <td>...</td>\n",
       "      <td>...</td>\n",
       "      <td>...</td>\n",
       "    </tr>\n",
       "    <tr>\n",
       "      <th>7812</th>\n",
       "      <td>1.0</td>\n",
       "      <td>0.0</td>\n",
       "      <td>0.0</td>\n",
       "      <td>0.0</td>\n",
       "      <td>0.0</td>\n",
       "      <td>1.0</td>\n",
       "      <td>1.0</td>\n",
       "    </tr>\n",
       "    <tr>\n",
       "      <th>7813</th>\n",
       "      <td>1.0</td>\n",
       "      <td>0.0</td>\n",
       "      <td>0.0</td>\n",
       "      <td>0.0</td>\n",
       "      <td>0.0</td>\n",
       "      <td>1.0</td>\n",
       "      <td>1.0</td>\n",
       "    </tr>\n",
       "    <tr>\n",
       "      <th>7814</th>\n",
       "      <td>1.0</td>\n",
       "      <td>0.0</td>\n",
       "      <td>0.0</td>\n",
       "      <td>0.0</td>\n",
       "      <td>0.0</td>\n",
       "      <td>1.0</td>\n",
       "      <td>1.0</td>\n",
       "    </tr>\n",
       "    <tr>\n",
       "      <th>7815</th>\n",
       "      <td>1.0</td>\n",
       "      <td>0.0</td>\n",
       "      <td>0.0</td>\n",
       "      <td>0.0</td>\n",
       "      <td>0.0</td>\n",
       "      <td>1.0</td>\n",
       "      <td>1.0</td>\n",
       "    </tr>\n",
       "    <tr>\n",
       "      <th>7816</th>\n",
       "      <td>1.0</td>\n",
       "      <td>0.0</td>\n",
       "      <td>0.0</td>\n",
       "      <td>0.0</td>\n",
       "      <td>0.0</td>\n",
       "      <td>1.0</td>\n",
       "      <td>1.0</td>\n",
       "    </tr>\n",
       "  </tbody>\n",
       "</table>\n",
       "<p>7817 rows × 7 columns</p>\n",
       "</div>"
      ],
      "text/plain": [
       "      Seasons_Autumn  Seasons_Spring  Seasons_Summer  Seasons_Winter  \\\n",
       "0                0.0             0.0             0.0             1.0   \n",
       "1                0.0             0.0             0.0             1.0   \n",
       "2                0.0             0.0             0.0             1.0   \n",
       "3                0.0             0.0             0.0             1.0   \n",
       "4                0.0             0.0             0.0             1.0   \n",
       "...              ...             ...             ...             ...   \n",
       "7812             1.0             0.0             0.0             0.0   \n",
       "7813             1.0             0.0             0.0             0.0   \n",
       "7814             1.0             0.0             0.0             0.0   \n",
       "7815             1.0             0.0             0.0             0.0   \n",
       "7816             1.0             0.0             0.0             0.0   \n",
       "\n",
       "      Holiday_Holiday  Holiday_No Holiday  Functioning Day_Yes  \n",
       "0                 0.0                 1.0                  1.0  \n",
       "1                 0.0                 1.0                  1.0  \n",
       "2                 0.0                 1.0                  1.0  \n",
       "3                 0.0                 1.0                  1.0  \n",
       "4                 0.0                 1.0                  1.0  \n",
       "...               ...                 ...                  ...  \n",
       "7812              0.0                 1.0                  1.0  \n",
       "7813              0.0                 1.0                  1.0  \n",
       "7814              0.0                 1.0                  1.0  \n",
       "7815              0.0                 1.0                  1.0  \n",
       "7816              0.0                 1.0                  1.0  \n",
       "\n",
       "[7817 rows x 7 columns]"
      ]
     },
     "execution_count": 46,
     "metadata": {},
     "output_type": "execute_result"
    }
   ],
   "source": [
    "df_ohe1"
   ]
  },
  {
   "cell_type": "code",
   "execution_count": 47,
   "id": "8a9f13c9",
   "metadata": {},
   "outputs": [
    {
     "data": {
      "text/html": [
       "<div>\n",
       "<style scoped>\n",
       "    .dataframe tbody tr th:only-of-type {\n",
       "        vertical-align: middle;\n",
       "    }\n",
       "\n",
       "    .dataframe tbody tr th {\n",
       "        vertical-align: top;\n",
       "    }\n",
       "\n",
       "    .dataframe thead th {\n",
       "        text-align: right;\n",
       "    }\n",
       "</style>\n",
       "<table border=\"1\" class=\"dataframe\">\n",
       "  <thead>\n",
       "    <tr style=\"text-align: right;\">\n",
       "      <th></th>\n",
       "      <th>Seasons_Autumn</th>\n",
       "      <th>Seasons_Spring</th>\n",
       "      <th>Seasons_Summer</th>\n",
       "      <th>Seasons_Winter</th>\n",
       "      <th>Holiday_No Holiday</th>\n",
       "      <th>Functioning Day_No</th>\n",
       "      <th>Functioning Day_Yes</th>\n",
       "    </tr>\n",
       "  </thead>\n",
       "  <tbody>\n",
       "    <tr>\n",
       "      <th>0</th>\n",
       "      <td>0.0</td>\n",
       "      <td>0.0</td>\n",
       "      <td>0.0</td>\n",
       "      <td>1.0</td>\n",
       "      <td>1.0</td>\n",
       "      <td>0.0</td>\n",
       "      <td>1.0</td>\n",
       "    </tr>\n",
       "    <tr>\n",
       "      <th>1</th>\n",
       "      <td>0.0</td>\n",
       "      <td>0.0</td>\n",
       "      <td>0.0</td>\n",
       "      <td>1.0</td>\n",
       "      <td>1.0</td>\n",
       "      <td>0.0</td>\n",
       "      <td>1.0</td>\n",
       "    </tr>\n",
       "    <tr>\n",
       "      <th>2</th>\n",
       "      <td>0.0</td>\n",
       "      <td>0.0</td>\n",
       "      <td>0.0</td>\n",
       "      <td>1.0</td>\n",
       "      <td>1.0</td>\n",
       "      <td>0.0</td>\n",
       "      <td>1.0</td>\n",
       "    </tr>\n",
       "    <tr>\n",
       "      <th>3</th>\n",
       "      <td>0.0</td>\n",
       "      <td>0.0</td>\n",
       "      <td>0.0</td>\n",
       "      <td>1.0</td>\n",
       "      <td>1.0</td>\n",
       "      <td>0.0</td>\n",
       "      <td>1.0</td>\n",
       "    </tr>\n",
       "    <tr>\n",
       "      <th>4</th>\n",
       "      <td>0.0</td>\n",
       "      <td>0.0</td>\n",
       "      <td>0.0</td>\n",
       "      <td>1.0</td>\n",
       "      <td>1.0</td>\n",
       "      <td>0.0</td>\n",
       "      <td>1.0</td>\n",
       "    </tr>\n",
       "    <tr>\n",
       "      <th>...</th>\n",
       "      <td>...</td>\n",
       "      <td>...</td>\n",
       "      <td>...</td>\n",
       "      <td>...</td>\n",
       "      <td>...</td>\n",
       "      <td>...</td>\n",
       "      <td>...</td>\n",
       "    </tr>\n",
       "    <tr>\n",
       "      <th>715</th>\n",
       "      <td>0.0</td>\n",
       "      <td>0.0</td>\n",
       "      <td>0.0</td>\n",
       "      <td>1.0</td>\n",
       "      <td>1.0</td>\n",
       "      <td>0.0</td>\n",
       "      <td>1.0</td>\n",
       "    </tr>\n",
       "    <tr>\n",
       "      <th>716</th>\n",
       "      <td>0.0</td>\n",
       "      <td>0.0</td>\n",
       "      <td>0.0</td>\n",
       "      <td>1.0</td>\n",
       "      <td>1.0</td>\n",
       "      <td>0.0</td>\n",
       "      <td>1.0</td>\n",
       "    </tr>\n",
       "    <tr>\n",
       "      <th>717</th>\n",
       "      <td>0.0</td>\n",
       "      <td>0.0</td>\n",
       "      <td>0.0</td>\n",
       "      <td>1.0</td>\n",
       "      <td>1.0</td>\n",
       "      <td>0.0</td>\n",
       "      <td>1.0</td>\n",
       "    </tr>\n",
       "    <tr>\n",
       "      <th>718</th>\n",
       "      <td>0.0</td>\n",
       "      <td>0.0</td>\n",
       "      <td>0.0</td>\n",
       "      <td>1.0</td>\n",
       "      <td>1.0</td>\n",
       "      <td>0.0</td>\n",
       "      <td>1.0</td>\n",
       "    </tr>\n",
       "    <tr>\n",
       "      <th>719</th>\n",
       "      <td>0.0</td>\n",
       "      <td>0.0</td>\n",
       "      <td>0.0</td>\n",
       "      <td>1.0</td>\n",
       "      <td>1.0</td>\n",
       "      <td>0.0</td>\n",
       "      <td>1.0</td>\n",
       "    </tr>\n",
       "  </tbody>\n",
       "</table>\n",
       "<p>720 rows × 7 columns</p>\n",
       "</div>"
      ],
      "text/plain": [
       "     Seasons_Autumn  Seasons_Spring  Seasons_Summer  Seasons_Winter  \\\n",
       "0               0.0             0.0             0.0             1.0   \n",
       "1               0.0             0.0             0.0             1.0   \n",
       "2               0.0             0.0             0.0             1.0   \n",
       "3               0.0             0.0             0.0             1.0   \n",
       "4               0.0             0.0             0.0             1.0   \n",
       "..              ...             ...             ...             ...   \n",
       "715             0.0             0.0             0.0             1.0   \n",
       "716             0.0             0.0             0.0             1.0   \n",
       "717             0.0             0.0             0.0             1.0   \n",
       "718             0.0             0.0             0.0             1.0   \n",
       "719             0.0             0.0             0.0             1.0   \n",
       "\n",
       "     Holiday_No Holiday  Functioning Day_No  Functioning Day_Yes  \n",
       "0                   1.0                 0.0                  1.0  \n",
       "1                   1.0                 0.0                  1.0  \n",
       "2                   1.0                 0.0                  1.0  \n",
       "3                   1.0                 0.0                  1.0  \n",
       "4                   1.0                 0.0                  1.0  \n",
       "..                  ...                 ...                  ...  \n",
       "715                 1.0                 0.0                  1.0  \n",
       "716                 1.0                 0.0                  1.0  \n",
       "717                 1.0                 0.0                  1.0  \n",
       "718                 1.0                 0.0                  1.0  \n",
       "719                 1.0                 0.0                  1.0  \n",
       "\n",
       "[720 rows x 7 columns]"
      ]
     },
     "execution_count": 47,
     "metadata": {},
     "output_type": "execute_result"
    }
   ],
   "source": [
    "df_ohe2"
   ]
  },
  {
   "cell_type": "code",
   "execution_count": 48,
   "id": "c242a1c3",
   "metadata": {},
   "outputs": [],
   "source": [
    "x_df = df.select_dtypes(include=['object']).columns\n",
    "new_df_ = df.drop(columns=x_df)\n",
    "df = pd.concat([df_ohe1, new_df_.reset_index()], axis=1)"
   ]
  },
  {
   "cell_type": "code",
   "execution_count": 49,
   "id": "071571c7",
   "metadata": {},
   "outputs": [],
   "source": [
    "y_df = df1.select_dtypes(include=['object']).columns\n",
    "new_df_2_ = df1.drop(columns=y_df)\n",
    "df1 = pd.concat([df_ohe2, new_df_2_.reset_index()], axis=1)"
   ]
  },
  {
   "cell_type": "code",
   "execution_count": 50,
   "id": "d59c40d5",
   "metadata": {},
   "outputs": [],
   "source": [
    "df=pd.concat([df,df_ohe1],axis=1)"
   ]
  },
  {
   "cell_type": "code",
   "execution_count": 51,
   "id": "15798d8f",
   "metadata": {},
   "outputs": [],
   "source": [
    "df1=pd.concat([df1,df_ohe2],axis=1)"
   ]
  },
  {
   "cell_type": "code",
   "execution_count": 52,
   "id": "4a34d5cc",
   "metadata": {},
   "outputs": [
    {
     "name": "stdout",
     "output_type": "stream",
     "text": [
      "<class 'pandas.core.frame.DataFrame'>\n",
      "RangeIndex: 7817 entries, 0 to 7816\n",
      "Data columns (total 26 columns):\n",
      " #   Column                     Non-Null Count  Dtype         \n",
      "---  ------                     --------------  -----         \n",
      " 0   Seasons_Autumn             7817 non-null   float64       \n",
      " 1   Seasons_Spring             7817 non-null   float64       \n",
      " 2   Seasons_Summer             7817 non-null   float64       \n",
      " 3   Seasons_Winter             7817 non-null   float64       \n",
      " 4   Holiday_Holiday            7817 non-null   float64       \n",
      " 5   Holiday_No Holiday         7817 non-null   float64       \n",
      " 6   Functioning Day_Yes        7817 non-null   float64       \n",
      " 7   index                      7817 non-null   int64         \n",
      " 8   Date                       7817 non-null   datetime64[ns]\n",
      " 9   Rented Bike Count          7817 non-null   int64         \n",
      " 10  Hour                       7817 non-null   int64         \n",
      " 11  Temperature(째C)            7817 non-null   float64       \n",
      " 12  Humidity(%)                7817 non-null   int64         \n",
      " 13  Wind speed (m/s)           7817 non-null   float64       \n",
      " 14  Visibility (10m)           7817 non-null   int64         \n",
      " 15  Dew point temperature(째C)  7817 non-null   float64       \n",
      " 16  Solar Radiation (MJ/m2)    7817 non-null   float64       \n",
      " 17  Rainfall(mm)               7817 non-null   float64       \n",
      " 18  Snowfall (cm)              7817 non-null   float64       \n",
      " 19  Seasons_Autumn             7817 non-null   float64       \n",
      " 20  Seasons_Spring             7817 non-null   float64       \n",
      " 21  Seasons_Summer             7817 non-null   float64       \n",
      " 22  Seasons_Winter             7817 non-null   float64       \n",
      " 23  Holiday_Holiday            7817 non-null   float64       \n",
      " 24  Holiday_No Holiday         7817 non-null   float64       \n",
      " 25  Functioning Day_Yes        7817 non-null   float64       \n",
      "dtypes: datetime64[ns](1), float64(20), int64(5)\n",
      "memory usage: 1.6 MB\n"
     ]
    }
   ],
   "source": [
    "df.info()"
   ]
  },
  {
   "cell_type": "code",
   "execution_count": 53,
   "id": "1d7ad9ab",
   "metadata": {},
   "outputs": [
    {
     "name": "stdout",
     "output_type": "stream",
     "text": [
      "<class 'pandas.core.frame.DataFrame'>\n",
      "RangeIndex: 720 entries, 0 to 719\n",
      "Data columns (total 25 columns):\n",
      " #   Column                     Non-Null Count  Dtype         \n",
      "---  ------                     --------------  -----         \n",
      " 0   Seasons_Autumn             720 non-null    float64       \n",
      " 1   Seasons_Spring             720 non-null    float64       \n",
      " 2   Seasons_Summer             720 non-null    float64       \n",
      " 3   Seasons_Winter             720 non-null    float64       \n",
      " 4   Holiday_No Holiday         720 non-null    float64       \n",
      " 5   Functioning Day_No         720 non-null    float64       \n",
      " 6   Functioning Day_Yes        720 non-null    float64       \n",
      " 7   index                      720 non-null    int64         \n",
      " 8   Date                       720 non-null    datetime64[ns]\n",
      " 9   Hour                       720 non-null    int64         \n",
      " 10  Temperature(째C)            720 non-null    float64       \n",
      " 11  Humidity(%)                720 non-null    int64         \n",
      " 12  Wind speed (m/s)           720 non-null    float64       \n",
      " 13  Visibility (10m)           720 non-null    int64         \n",
      " 14  Dew point temperature(째C)  720 non-null    float64       \n",
      " 15  Solar Radiation (MJ/m2)    720 non-null    float64       \n",
      " 16  Rainfall(mm)               720 non-null    float64       \n",
      " 17  Snowfall (cm)              720 non-null    float64       \n",
      " 18  Seasons_Autumn             720 non-null    float64       \n",
      " 19  Seasons_Spring             720 non-null    float64       \n",
      " 20  Seasons_Summer             720 non-null    float64       \n",
      " 21  Seasons_Winter             720 non-null    float64       \n",
      " 22  Holiday_No Holiday         720 non-null    float64       \n",
      " 23  Functioning Day_No         720 non-null    float64       \n",
      " 24  Functioning Day_Yes        720 non-null    float64       \n",
      "dtypes: datetime64[ns](1), float64(20), int64(4)\n",
      "memory usage: 140.8 KB\n"
     ]
    }
   ],
   "source": [
    "df1.info()"
   ]
  },
  {
   "cell_type": "code",
   "execution_count": 55,
   "id": "fa7bf9f4",
   "metadata": {},
   "outputs": [],
   "source": [
    "train=df.drop([\"Date\",\"Holiday_No Holiday\",\"Holiday_Holiday\",\"Functioning Day_Yes\",\"Seasons_Spring\",\"Seasons_Summer\",\"Seasons_Autumn\",\"Seasons_Winter\"], axis=1, inplace = False)\n",
    "test=df1.drop([\"Date\",\"Holiday_No Holiday\",\"Functioning Day_Yes\",\"Functioning Day_No\",\"Seasons_Autumn\",\"Seasons_Winter\"], axis=1, inplace = False)"
   ]
  },
  {
   "cell_type": "code",
   "execution_count": 56,
   "id": "1336ee88",
   "metadata": {},
   "outputs": [
    {
     "name": "stdout",
     "output_type": "stream",
     "text": [
      "<class 'pandas.core.frame.DataFrame'>\n",
      "RangeIndex: 7817 entries, 0 to 7816\n",
      "Data columns (total 11 columns):\n",
      " #   Column                     Non-Null Count  Dtype  \n",
      "---  ------                     --------------  -----  \n",
      " 0   index                      7817 non-null   int64  \n",
      " 1   Rented Bike Count          7817 non-null   int64  \n",
      " 2   Hour                       7817 non-null   int64  \n",
      " 3   Temperature(째C)            7817 non-null   float64\n",
      " 4   Humidity(%)                7817 non-null   int64  \n",
      " 5   Wind speed (m/s)           7817 non-null   float64\n",
      " 6   Visibility (10m)           7817 non-null   int64  \n",
      " 7   Dew point temperature(째C)  7817 non-null   float64\n",
      " 8   Solar Radiation (MJ/m2)    7817 non-null   float64\n",
      " 9   Rainfall(mm)               7817 non-null   float64\n",
      " 10  Snowfall (cm)              7817 non-null   float64\n",
      "dtypes: float64(6), int64(5)\n",
      "memory usage: 671.9 KB\n"
     ]
    }
   ],
   "source": [
    "train.info()"
   ]
  },
  {
   "cell_type": "code",
   "execution_count": 57,
   "id": "10c819b2",
   "metadata": {},
   "outputs": [
    {
     "name": "stdout",
     "output_type": "stream",
     "text": [
      "<class 'pandas.core.frame.DataFrame'>\n",
      "RangeIndex: 720 entries, 0 to 719\n",
      "Data columns (total 14 columns):\n",
      " #   Column                     Non-Null Count  Dtype  \n",
      "---  ------                     --------------  -----  \n",
      " 0   Seasons_Spring             720 non-null    float64\n",
      " 1   Seasons_Summer             720 non-null    float64\n",
      " 2   index                      720 non-null    int64  \n",
      " 3   Hour                       720 non-null    int64  \n",
      " 4   Temperature(째C)            720 non-null    float64\n",
      " 5   Humidity(%)                720 non-null    int64  \n",
      " 6   Wind speed (m/s)           720 non-null    float64\n",
      " 7   Visibility (10m)           720 non-null    int64  \n",
      " 8   Dew point temperature(째C)  720 non-null    float64\n",
      " 9   Solar Radiation (MJ/m2)    720 non-null    float64\n",
      " 10  Rainfall(mm)               720 non-null    float64\n",
      " 11  Snowfall (cm)              720 non-null    float64\n",
      " 12  Seasons_Spring             720 non-null    float64\n",
      " 13  Seasons_Summer             720 non-null    float64\n",
      "dtypes: float64(10), int64(4)\n",
      "memory usage: 78.9 KB\n"
     ]
    }
   ],
   "source": [
    "test.info()"
   ]
  },
  {
   "cell_type": "code",
   "execution_count": 59,
   "id": "c3cea3fa",
   "metadata": {},
   "outputs": [
    {
     "data": {
      "text/plain": [
       "<AxesSubplot:xlabel='Rented Bike Count', ylabel='Count'>"
      ]
     },
     "execution_count": 59,
     "metadata": {},
     "output_type": "execute_result"
    },
    {
     "data": {
      "image/png": "[encoded data removed]",
      "text/plain": [
       "<Figure size 720x432 with 1 Axes>"
      ]
     },
     "metadata": {
      "image/png": {
       "height": 370,
       "width": 618
      },
      "needs_background": "light"
     },
     "output_type": "display_data"
    }
   ],
   "source": [
    "plt.figure(figsize=(10, 6))\n",
    "sns.histplot(train[\"Rented Bike Count\"], kde=True, bins=30)"
   ]
  },
  {
   "cell_type": "code",
   "execution_count": 60,
   "id": "4bfdde94",
   "metadata": {},
   "outputs": [
    {
     "data": {
      "text/plain": [
       "<AxesSubplot:xlabel='Rented Bike Count', ylabel='Count'>"
      ]
     },
     "execution_count": 60,
     "metadata": {},
     "output_type": "execute_result"
    },
    {
     "data": {
      "image/png": "[encoded data removed]",
      "text/plain": [
       "<Figure size 720x432 with 1 Axes>"
      ]
     },
     "metadata": {
      "image/png": {
       "height": 370,
       "width": 612
      },
      "needs_background": "light"
     },
     "output_type": "display_data"
    }
   ],
   "source": [
    "log = np.log1p(train[\"Rented Bike Count\"])\n",
    "plt.figure(figsize=(10, 6))\n",
    "sns.histplot(log, kde=True, bins=30)"
   ]
  },
  {
   "cell_type": "code",
   "execution_count": 61,
   "id": "684cd9fa",
   "metadata": {},
   "outputs": [],
   "source": [
    "train[\"Rented Bike Count\"]= np.log1p(train['Rented Bike Count'])"
   ]
  },
  {
   "cell_type": "code",
   "execution_count": 62,
   "id": "08bd66da",
   "metadata": {},
   "outputs": [
    {
     "data": {
      "text/html": [
       "<div>\n",
       "<style scoped>\n",
       "    .dataframe tbody tr th:only-of-type {\n",
       "        vertical-align: middle;\n",
       "    }\n",
       "\n",
       "    .dataframe tbody tr th {\n",
       "        vertical-align: top;\n",
       "    }\n",
       "\n",
       "    .dataframe thead th {\n",
       "        text-align: right;\n",
       "    }\n",
       "</style>\n",
       "<table border=\"1\" class=\"dataframe\">\n",
       "  <thead>\n",
       "    <tr style=\"text-align: right;\">\n",
       "      <th></th>\n",
       "      <th>index</th>\n",
       "      <th>Hour</th>\n",
       "      <th>Temperature(째C)</th>\n",
       "      <th>Humidity(%)</th>\n",
       "      <th>Wind speed (m/s)</th>\n",
       "      <th>Visibility (10m)</th>\n",
       "      <th>Dew point temperature(째C)</th>\n",
       "      <th>Solar Radiation (MJ/m2)</th>\n",
       "      <th>Rainfall(mm)</th>\n",
       "      <th>Snowfall (cm)</th>\n",
       "    </tr>\n",
       "  </thead>\n",
       "  <tbody>\n",
       "    <tr>\n",
       "      <th>0</th>\n",
       "      <td>0</td>\n",
       "      <td>0</td>\n",
       "      <td>-5.2</td>\n",
       "      <td>37</td>\n",
       "      <td>2.0</td>\n",
       "      <td>2000</td>\n",
       "      <td>-17.6</td>\n",
       "      <td>0.0</td>\n",
       "      <td>0.0</td>\n",
       "      <td>0.0</td>\n",
       "    </tr>\n",
       "    <tr>\n",
       "      <th>1</th>\n",
       "      <td>1</td>\n",
       "      <td>1</td>\n",
       "      <td>-5.5</td>\n",
       "      <td>38</td>\n",
       "      <td>1.0</td>\n",
       "      <td>2000</td>\n",
       "      <td>-17.6</td>\n",
       "      <td>0.0</td>\n",
       "      <td>0.0</td>\n",
       "      <td>0.0</td>\n",
       "    </tr>\n",
       "    <tr>\n",
       "      <th>2</th>\n",
       "      <td>2</td>\n",
       "      <td>2</td>\n",
       "      <td>-6.0</td>\n",
       "      <td>39</td>\n",
       "      <td>1.0</td>\n",
       "      <td>2000</td>\n",
       "      <td>-17.7</td>\n",
       "      <td>0.0</td>\n",
       "      <td>0.0</td>\n",
       "      <td>0.0</td>\n",
       "    </tr>\n",
       "    <tr>\n",
       "      <th>3</th>\n",
       "      <td>3</td>\n",
       "      <td>3</td>\n",
       "      <td>-6.2</td>\n",
       "      <td>40</td>\n",
       "      <td>1.0</td>\n",
       "      <td>2000</td>\n",
       "      <td>-17.6</td>\n",
       "      <td>0.0</td>\n",
       "      <td>0.0</td>\n",
       "      <td>0.0</td>\n",
       "    </tr>\n",
       "    <tr>\n",
       "      <th>4</th>\n",
       "      <td>4</td>\n",
       "      <td>4</td>\n",
       "      <td>-6.0</td>\n",
       "      <td>36</td>\n",
       "      <td>2.0</td>\n",
       "      <td>2000</td>\n",
       "      <td>-18.6</td>\n",
       "      <td>0.0</td>\n",
       "      <td>0.0</td>\n",
       "      <td>0.0</td>\n",
       "    </tr>\n",
       "    <tr>\n",
       "      <th>...</th>\n",
       "      <td>...</td>\n",
       "      <td>...</td>\n",
       "      <td>...</td>\n",
       "      <td>...</td>\n",
       "      <td>...</td>\n",
       "      <td>...</td>\n",
       "      <td>...</td>\n",
       "      <td>...</td>\n",
       "      <td>...</td>\n",
       "      <td>...</td>\n",
       "    </tr>\n",
       "    <tr>\n",
       "      <th>7812</th>\n",
       "      <td>8035</td>\n",
       "      <td>19</td>\n",
       "      <td>8.4</td>\n",
       "      <td>53</td>\n",
       "      <td>2.0</td>\n",
       "      <td>2000</td>\n",
       "      <td>-0.6</td>\n",
       "      <td>0.0</td>\n",
       "      <td>0.0</td>\n",
       "      <td>0.0</td>\n",
       "    </tr>\n",
       "    <tr>\n",
       "      <th>7813</th>\n",
       "      <td>8036</td>\n",
       "      <td>20</td>\n",
       "      <td>7.6</td>\n",
       "      <td>59</td>\n",
       "      <td>1.0</td>\n",
       "      <td>2000</td>\n",
       "      <td>0.0</td>\n",
       "      <td>0.0</td>\n",
       "      <td>0.0</td>\n",
       "      <td>0.0</td>\n",
       "    </tr>\n",
       "    <tr>\n",
       "      <th>7814</th>\n",
       "      <td>8037</td>\n",
       "      <td>21</td>\n",
       "      <td>7.6</td>\n",
       "      <td>59</td>\n",
       "      <td>3.0</td>\n",
       "      <td>1929</td>\n",
       "      <td>0.0</td>\n",
       "      <td>0.0</td>\n",
       "      <td>0.0</td>\n",
       "      <td>0.0</td>\n",
       "    </tr>\n",
       "    <tr>\n",
       "      <th>7815</th>\n",
       "      <td>8038</td>\n",
       "      <td>22</td>\n",
       "      <td>6.8</td>\n",
       "      <td>58</td>\n",
       "      <td>2.0</td>\n",
       "      <td>1936</td>\n",
       "      <td>-0.9</td>\n",
       "      <td>0.0</td>\n",
       "      <td>0.0</td>\n",
       "      <td>0.0</td>\n",
       "    </tr>\n",
       "    <tr>\n",
       "      <th>7816</th>\n",
       "      <td>8039</td>\n",
       "      <td>23</td>\n",
       "      <td>6.4</td>\n",
       "      <td>60</td>\n",
       "      <td>2.0</td>\n",
       "      <td>1930</td>\n",
       "      <td>-0.8</td>\n",
       "      <td>0.0</td>\n",
       "      <td>0.0</td>\n",
       "      <td>0.0</td>\n",
       "    </tr>\n",
       "  </tbody>\n",
       "</table>\n",
       "<p>7817 rows × 10 columns</p>\n",
       "</div>"
      ],
      "text/plain": [
       "      index  Hour  Temperature(째C)  Humidity(%)  Wind speed (m/s)  \\\n",
       "0         0     0             -5.2           37               2.0   \n",
       "1         1     1             -5.5           38               1.0   \n",
       "2         2     2             -6.0           39               1.0   \n",
       "3         3     3             -6.2           40               1.0   \n",
       "4         4     4             -6.0           36               2.0   \n",
       "...     ...   ...              ...          ...               ...   \n",
       "7812   8035    19              8.4           53               2.0   \n",
       "7813   8036    20              7.6           59               1.0   \n",
       "7814   8037    21              7.6           59               3.0   \n",
       "7815   8038    22              6.8           58               2.0   \n",
       "7816   8039    23              6.4           60               2.0   \n",
       "\n",
       "      Visibility (10m)  Dew point temperature(째C)  Solar Radiation (MJ/m2)  \\\n",
       "0                 2000                      -17.6                      0.0   \n",
       "1                 2000                      -17.6                      0.0   \n",
       "2                 2000                      -17.7                      0.0   \n",
       "3                 2000                      -17.6                      0.0   \n",
       "4                 2000                      -18.6                      0.0   \n",
       "...                ...                        ...                      ...   \n",
       "7812              2000                       -0.6                      0.0   \n",
       "7813              2000                        0.0                      0.0   \n",
       "7814              1929                        0.0                      0.0   \n",
       "7815              1936                       -0.9                      0.0   \n",
       "7816              1930                       -0.8                      0.0   \n",
       "\n",
       "      Rainfall(mm)  Snowfall (cm)  \n",
       "0              0.0            0.0  \n",
       "1              0.0            0.0  \n",
       "2              0.0            0.0  \n",
       "3              0.0            0.0  \n",
       "4              0.0            0.0  \n",
       "...            ...            ...  \n",
       "7812           0.0            0.0  \n",
       "7813           0.0            0.0  \n",
       "7814           0.0            0.0  \n",
       "7815           0.0            0.0  \n",
       "7816           0.0            0.0  \n",
       "\n",
       "[7817 rows x 10 columns]"
      ]
     },
     "execution_count": 62,
     "metadata": {},
     "output_type": "execute_result"
    }
   ],
   "source": [
    "X_train=train.drop(\"Rented Bike Count\",axis=1,inplace=False)\n",
    "y_train = train[\"Rented Bike Count\"]\n",
    "X_train"
   ]
  },
  {
   "cell_type": "code",
   "execution_count": 63,
   "id": "9da68e4e",
   "metadata": {},
   "outputs": [],
   "source": [
    "x_test = test.copy()"
   ]
  },
  {
   "cell_type": "markdown",
   "id": "070b2307",
   "metadata": {},
   "source": [
    "## 변수 스케일링"
   ]
  },
  {
   "cell_type": "code",
   "execution_count": 64,
   "id": "46f0bda3",
   "metadata": {},
   "outputs": [],
   "source": [
    "from sklearn.preprocessing import OneHotEncoder, StandardScaler, MinMaxScaler, MaxAbsScaler, RobustScaler\n",
    "from sklearn.model_selection import train_test_split, GridSearchCV\n",
    "from sklearn.tree import DecisionTreeRegressor"
   ]
  },
  {
   "cell_type": "code",
   "execution_count": 65,
   "id": "5d4ad62e",
   "metadata": {},
   "outputs": [],
   "source": [
    "from sklearn.model_selection import train_test_split\n",
    "\n",
    "X_train, X_val, y_train, y_val = train_test_split(X_train ,\n",
    "                                                       y_train ,\n",
    "                                                       test_size=0.3, \n",
    "                                                       random_state=156)"
   ]
  },
  {
   "cell_type": "code",
   "execution_count": 66,
   "id": "bf54d8f0",
   "metadata": {},
   "outputs": [
    {
     "name": "stdout",
     "output_type": "stream",
     "text": [
      "-3.5975203400758133e-17\n",
      "-0.025151043664577644\n",
      "0.9999999999999999\n",
      "0.9791668934727223\n"
     ]
    }
   ],
   "source": [
    "ss = StandardScaler()\n",
    "X_train_ss = ss.fit_transform(X_train)\n",
    "X_val_ss = ss.transform(X_val)\n",
    "print(X_train_ss.mean())\n",
    "print(X_val_ss.mean())\n",
    "print(X_train_ss.std())\n",
    "print(X_val_ss.std())"
   ]
  },
  {
   "cell_type": "code",
   "execution_count": 67,
   "id": "abbc6e39",
   "metadata": {},
   "outputs": [
    {
     "name": "stdout",
     "output_type": "stream",
     "text": [
      "0.32663353121730776\n",
      "0.32071510574395656\n",
      "0.35251366453074723\n",
      "0.3533909165987584\n"
     ]
    }
   ],
   "source": [
    "ma = MaxAbsScaler()\n",
    "X_train_ma = ma.fit_transform(X_train)\n",
    "X_val_ma = ma.transform(X_val)\n",
    "print(X_train_ma.mean())\n",
    "print(X_val_ma.mean())\n",
    "print(X_train_ma.std())\n",
    "print(X_val_ma.std())"
   ]
  },
  {
   "cell_type": "code",
   "execution_count": 68,
   "id": "994b4de5",
   "metadata": {},
   "outputs": [
    {
     "name": "stdout",
     "output_type": "stream",
     "text": [
      "0.3922636783715797\n",
      "0.38719759883966487\n",
      "0.3334216927393667\n",
      "0.33332520561507845\n"
     ]
    }
   ],
   "source": [
    "mm = MinMaxScaler()\n",
    "X_train_mm = mm.fit_transform(X_train)\n",
    "X_val_mm = mm.transform(X_val)\n",
    "print(X_train_mm.mean())\n",
    "print(X_val_mm.mean())\n",
    "print(X_train_mm.std())\n",
    "print(X_val_mm.std())"
   ]
  },
  {
   "cell_type": "code",
   "execution_count": 69,
   "id": "63e5a446",
   "metadata": {},
   "outputs": [
    {
     "name": "stdout",
     "output_type": "stream",
     "text": [
      "0.0036649300808662888\n",
      "-0.015831672993390916\n",
      "0.7919029671312465\n",
      "0.77266607160827\n"
     ]
    }
   ],
   "source": [
    "rs = RobustScaler()\n",
    "X_train_rs = rs.fit_transform(X_train)\n",
    "X_val_rs = rs.transform(X_val)\n",
    "print(X_train_rs.mean())\n",
    "print(X_val_rs.mean())\n",
    "print(X_train_rs.std())\n",
    "print(X_val_rs.std())"
   ]
  },
  {
   "cell_type": "markdown",
   "id": "4b18068b",
   "metadata": {},
   "source": [
    "## 모델"
   ]
  },
  {
   "cell_type": "code",
   "execution_count": 70,
   "id": "1d5f627c",
   "metadata": {},
   "outputs": [],
   "source": [
    "from sklearn.linear_model import LinearRegression\n",
    "model = LinearRegression()"
   ]
  },
  {
   "cell_type": "code",
   "execution_count": 71,
   "id": "77d67f81",
   "metadata": {},
   "outputs": [
    {
     "data": {
      "text/plain": [
       "{'copy_X': True, 'fit_intercept': True, 'n_jobs': None, 'positive': False}"
      ]
     },
     "execution_count": 71,
     "metadata": {},
     "output_type": "execute_result"
    }
   ],
   "source": [
    "model.fit(X_train, y_train).get_params()"
   ]
  },
  {
   "cell_type": "code",
   "execution_count": 72,
   "id": "628fde4d",
   "metadata": {},
   "outputs": [],
   "source": [
    "predict = model.predict(X_val)"
   ]
  },
  {
   "cell_type": "code",
   "execution_count": 73,
   "id": "52df48a7",
   "metadata": {},
   "outputs": [],
   "source": [
    "from sklearn.metrics import r2_score,mean_absolute_error, mean_squared_error\n",
    "r_squared = r2_score(y_val, predict)\n",
    "mae = mean_absolute_error(y_val, predict)"
   ]
  },
  {
   "cell_type": "code",
   "execution_count": 74,
   "id": "e8e2bf84",
   "metadata": {},
   "outputs": [],
   "source": [
    "rmse = np.sqrt(mean_squared_error(y_val, predict))\n",
    "mse = mean_squared_error(y_val, predict) "
   ]
  },
  {
   "cell_type": "code",
   "execution_count": 75,
   "id": "1e8674c1",
   "metadata": {},
   "outputs": [
    {
     "name": "stdout",
     "output_type": "stream",
     "text": [
      "0.5964783069385802\n",
      "0.5477776148429022\n",
      "0.7368216113155991\n",
      "0.5429060869017158\n"
     ]
    }
   ],
   "source": [
    "print(r_squared)\n",
    "print(mae)\n",
    "print(rmse)\n",
    "print(mse)"
   ]
  },
  {
   "cell_type": "code",
   "execution_count": 76,
   "id": "b680f6da",
   "metadata": {},
   "outputs": [],
   "source": [
    "model_1=LinearRegression()\n",
    "model_1.fit(X_train_ss, y_train)\n",
    "predict = model_1.predict(X_val_ss)\n",
    "r_squared = r2_score(y_val, predict)\n",
    "mae = mean_absolute_error(y_val, predict)\n",
    "rmse = np.sqrt(mean_squared_error(y_val, predict))\n",
    "mse = mean_squared_error(y_val, predict)"
   ]
  },
  {
   "cell_type": "code",
   "execution_count": 77,
   "id": "ffa702a2",
   "metadata": {},
   "outputs": [
    {
     "name": "stdout",
     "output_type": "stream",
     "text": [
      "0.5964783069385804\n",
      "0.5477776148429021\n",
      "0.7368216113155991\n",
      "0.5429060869017157\n"
     ]
    }
   ],
   "source": [
    "print(r_squared)\n",
    "print(mae)\n",
    "print(rmse)\n",
    "print(mse)"
   ]
  },
  {
   "cell_type": "code",
   "execution_count": 78,
   "id": "337531df",
   "metadata": {},
   "outputs": [],
   "source": [
    "model_2 = LinearRegression()\n",
    "model_2.fit(X_train_ma,y_train)\n",
    "predict = model_2.predict(X_val_ma)\n",
    "r_squared = r2_score(y_val, predict)\n",
    "mae = mean_absolute_error(y_val, predict)\n",
    "rmse = np.sqrt(mean_squared_error(y_val, predict))\n",
    "mse = mean_squared_error(y_val, predict)"
   ]
  },
  {
   "cell_type": "code",
   "execution_count": 79,
   "id": "bafa95bc",
   "metadata": {},
   "outputs": [
    {
     "name": "stdout",
     "output_type": "stream",
     "text": [
      "0.5964783069385804\n",
      "0.547777614842902\n",
      "0.736821611315599\n",
      "0.5429060869017156\n"
     ]
    }
   ],
   "source": [
    "print(r_squared)\n",
    "print(mae)\n",
    "print(rmse)\n",
    "print(mse)"
   ]
  },
  {
   "cell_type": "code",
   "execution_count": 80,
   "id": "c540ee97",
   "metadata": {},
   "outputs": [],
   "source": [
    "model_3 = LinearRegression()\n",
    "model_3.fit(X_train_mm, y_train)\n",
    "predict = model_3.predict(X_val_mm)\n",
    "r_squared = r2_score(y_val, predict)\n",
    "mae = mean_absolute_error(y_val, predict)\n",
    "rmse = np.sqrt(mean_squared_error(y_val, predict))\n",
    "mse = mean_squared_error(y_val, predict)"
   ]
  },
  {
   "cell_type": "code",
   "execution_count": 81,
   "id": "d4b23487",
   "metadata": {},
   "outputs": [
    {
     "name": "stdout",
     "output_type": "stream",
     "text": [
      "0.5964783069385804\n",
      "0.5477776148429021\n",
      "0.7368216113155991\n",
      "0.5429060869017157\n"
     ]
    }
   ],
   "source": [
    "print(r_squared)\n",
    "print(mae)\n",
    "print(rmse)\n",
    "print(mse)"
   ]
  },
  {
   "cell_type": "code",
   "execution_count": 82,
   "id": "0dd19605",
   "metadata": {},
   "outputs": [],
   "source": [
    "model_4 = LinearRegression()\n",
    "model_4.fit(X_train_rs, y_train)\n",
    "predict = model_4.predict(X_val_rs)\n",
    "r_squared = r2_score(y_val, predict)\n",
    "mae = mean_absolute_error(y_val, predict)\n",
    "rmse = np.sqrt(mean_squared_error(y_val, predict))\n",
    "mse = mean_squared_error(y_val, predict)"
   ]
  },
  {
   "cell_type": "code",
   "execution_count": 83,
   "id": "e00719db",
   "metadata": {},
   "outputs": [
    {
     "name": "stdout",
     "output_type": "stream",
     "text": [
      "0.5964783069385804\n",
      "0.5477776148429021\n",
      "0.7368216113155991\n",
      "0.5429060869017157\n"
     ]
    }
   ],
   "source": [
    "print(r_squared)\n",
    "print(mae)\n",
    "print(rmse)\n",
    "print(mse)"
   ]
  },
  {
   "cell_type": "markdown",
   "id": "3283b842",
   "metadata": {},
   "source": [
    "## 하이퍼파라미터 튜닝"
   ]
  },
  {
   "cell_type": "code",
   "execution_count": 84,
   "id": "8c1ad8ee",
   "metadata": {},
   "outputs": [],
   "source": [
    "from sklearn.ensemble import RandomForestRegressor\n",
    "from sklearn.model_selection import GridSearchCV, train_test_split\n",
    "from sklearn.metrics import mean_squared_error\n",
    "import pandas as pd\n",
    "\n",
    "rf_model = RandomForestRegressor()\n",
    "\n",
    "param_grid = {\n",
    "    'n_estimators': [50, 100, 150],\n",
    "    'max_depth': [None, 10, 20],\n",
    "    'min_samples_split': [2, 5, 10]\n",
    "}\n"
   ]
  },
  {
   "cell_type": "code",
   "execution_count": 88,
   "id": "9c5dc338",
   "metadata": {},
   "outputs": [],
   "source": [
    "grid_search = GridSearchCV(estimator=rf_model, param_grid=param_grid, cv=5, scoring='neg_mean_squared_error')\n"
   ]
  },
  {
   "cell_type": "code",
   "execution_count": 114,
   "id": "56f919b9",
   "metadata": {},
   "outputs": [
    {
     "data": {
      "text/html": [
       "<style>#sk-container-id-1 {color: black;}#sk-container-id-1 pre{padding: 0;}#sk-container-id-1 div.sk-toggleable {background-color: white;}#sk-container-id-1 label.sk-toggleable__label {cursor: pointer;display: block;width: 100%;margin-bottom: 0;padding: 0.3em;box-sizing: border-box;text-align: center;}#sk-container-id-1 label.sk-toggleable__label-arrow:before {content: \"▸\";float: left;margin-right: 0.25em;color: #696969;}#sk-container-id-1 label.sk-toggleable__label-arrow:hover:before {color: black;}#sk-container-id-1 div.sk-estimator:hover label.sk-toggleable__label-arrow:before {color: black;}#sk-container-id-1 div.sk-toggleable__content {max-height: 0;max-width: 0;overflow: hidden;text-align: left;background-color: #f0f8ff;}#sk-container-id-1 div.sk-toggleable__content pre {margin: 0.2em;color: black;border-radius: 0.25em;background-color: #f0f8ff;}#sk-container-id-1 input.sk-toggleable__control:checked~div.sk-toggleable__content {max-height: 200px;max-width: 100%;overflow: auto;}#sk-container-id-1 input.sk-toggleable__control:checked~label.sk-toggleable__label-arrow:before {content: \"▾\";}#sk-container-id-1 div.sk-estimator input.sk-toggleable__control:checked~label.sk-toggleable__label {background-color: #d4ebff;}#sk-container-id-1 div.sk-label input.sk-toggleable__control:checked~label.sk-toggleable__label {background-color: #d4ebff;}#sk-container-id-1 input.sk-hidden--visually {border: 0;clip: rect(1px 1px 1px 1px);clip: rect(1px, 1px, 1px, 1px);height: 1px;margin: -1px;overflow: hidden;padding: 0;position: absolute;width: 1px;}#sk-container-id-1 div.sk-estimator {font-family: monospace;background-color: #f0f8ff;border: 1px dotted black;border-radius: 0.25em;box-sizing: border-box;margin-bottom: 0.5em;}#sk-container-id-1 div.sk-estimator:hover {background-color: #d4ebff;}#sk-container-id-1 div.sk-parallel-item::after {content: \"\";width: 100%;border-bottom: 1px solid gray;flex-grow: 1;}#sk-container-id-1 div.sk-label:hover label.sk-toggleable__label {background-color: #d4ebff;}#sk-container-id-1 div.sk-serial::before {content: \"\";position: absolute;border-left: 1px solid gray;box-sizing: border-box;top: 0;bottom: 0;left: 50%;z-index: 0;}#sk-container-id-1 div.sk-serial {display: flex;flex-direction: column;align-items: center;background-color: white;padding-right: 0.2em;padding-left: 0.2em;position: relative;}#sk-container-id-1 div.sk-item {position: relative;z-index: 1;}#sk-container-id-1 div.sk-parallel {display: flex;align-items: stretch;justify-content: center;background-color: white;position: relative;}#sk-container-id-1 div.sk-item::before, #sk-container-id-1 div.sk-parallel-item::before {content: \"\";position: absolute;border-left: 1px solid gray;box-sizing: border-box;top: 0;bottom: 0;left: 50%;z-index: -1;}#sk-container-id-1 div.sk-parallel-item {display: flex;flex-direction: column;z-index: 1;position: relative;background-color: white;}#sk-container-id-1 div.sk-parallel-item:first-child::after {align-self: flex-end;width: 50%;}#sk-container-id-1 div.sk-parallel-item:last-child::after {align-self: flex-start;width: 50%;}#sk-container-id-1 div.sk-parallel-item:only-child::after {width: 0;}#sk-container-id-1 div.sk-dashed-wrapped {border: 1px dashed gray;margin: 0 0.4em 0.5em 0.4em;box-sizing: border-box;padding-bottom: 0.4em;background-color: white;}#sk-container-id-1 div.sk-label label {font-family: monospace;font-weight: bold;display: inline-block;line-height: 1.2em;}#sk-container-id-1 div.sk-label-container {text-align: center;}#sk-container-id-1 div.sk-container {/* jupyter's `normalize.less` sets `[hidden] { display: none; }` but bootstrap.min.css set `[hidden] { display: none !important; }` so we also need the `!important` here to be able to override the default hidden behavior on the sphinx rendered scikit-learn.org. See: https://github.com/scikit-learn/scikit-learn/issues/21755 */display: inline-block !important;position: relative;}#sk-container-id-1 div.sk-text-repr-fallback {display: none;}</style><div id=\"sk-container-id-1\" class=\"sk-top-container\"><div class=\"sk-text-repr-fallback\"><pre>GridSearchCV(cv=5, estimator=RandomForestRegressor(),\n",
       "             param_grid={&#x27;max_depth&#x27;: [None, 10, 20],\n",
       "                         &#x27;min_samples_split&#x27;: [2, 5, 10],\n",
       "                         &#x27;n_estimators&#x27;: [50, 100, 150]},\n",
       "             scoring=&#x27;neg_mean_squared_error&#x27;)</pre><b>In a Jupyter environment, please rerun this cell to show the HTML representation or trust the notebook. <br />On GitHub, the HTML representation is unable to render, please try loading this page with nbviewer.org.</b></div><div class=\"sk-container\" hidden><div class=\"sk-item sk-dashed-wrapped\"><div class=\"sk-label-container\"><div class=\"sk-label sk-toggleable\"><input class=\"sk-toggleable__control sk-hidden--visually\" id=\"sk-estimator-id-1\" type=\"checkbox\" ><label for=\"sk-estimator-id-1\" class=\"sk-toggleable__label sk-toggleable__label-arrow\">GridSearchCV</label><div class=\"sk-toggleable__content\"><pre>GridSearchCV(cv=5, estimator=RandomForestRegressor(),\n",
       "             param_grid={&#x27;max_depth&#x27;: [None, 10, 20],\n",
       "                         &#x27;min_samples_split&#x27;: [2, 5, 10],\n",
       "                         &#x27;n_estimators&#x27;: [50, 100, 150]},\n",
       "             scoring=&#x27;neg_mean_squared_error&#x27;)</pre></div></div></div><div class=\"sk-parallel\"><div class=\"sk-parallel-item\"><div class=\"sk-item\"><div class=\"sk-label-container\"><div class=\"sk-label sk-toggleable\"><input class=\"sk-toggleable__control sk-hidden--visually\" id=\"sk-estimator-id-2\" type=\"checkbox\" ><label for=\"sk-estimator-id-2\" class=\"sk-toggleable__label sk-toggleable__label-arrow\">estimator: RandomForestRegressor</label><div class=\"sk-toggleable__content\"><pre>RandomForestRegressor()</pre></div></div></div><div class=\"sk-serial\"><div class=\"sk-item\"><div class=\"sk-estimator sk-toggleable\"><input class=\"sk-toggleable__control sk-hidden--visually\" id=\"sk-estimator-id-3\" type=\"checkbox\" ><label for=\"sk-estimator-id-3\" class=\"sk-toggleable__label sk-toggleable__label-arrow\">RandomForestRegressor</label><div class=\"sk-toggleable__content\"><pre>RandomForestRegressor()</pre></div></div></div></div></div></div></div></div></div></div>"
      ],
      "text/plain": [
       "GridSearchCV(cv=5, estimator=RandomForestRegressor(),\n",
       "             param_grid={'max_depth': [None, 10, 20],\n",
       "                         'min_samples_split': [2, 5, 10],\n",
       "                         'n_estimators': [50, 100, 150]},\n",
       "             scoring='neg_mean_squared_error')"
      ]
     },
     "execution_count": 114,
     "metadata": {},
     "output_type": "execute_result"
    }
   ],
   "source": [
    "grid_search.fit(X_train, y_train)"
   ]
  },
  {
   "cell_type": "code",
   "execution_count": 115,
   "id": "cc3e04ec",
   "metadata": {},
   "outputs": [
    {
     "name": "stdout",
     "output_type": "stream",
     "text": [
      "Best Parameters: {'max_depth': 20, 'min_samples_split': 2, 'n_estimators': 150}\n",
      "Best Score: -0.1703103882515883\n"
     ]
    }
   ],
   "source": [
    "print(\"Best Parameters:\", grid_search.best_params_)\n",
    "print(\"Best Score:\", grid_search.best_score_)"
   ]
  },
  {
   "cell_type": "code",
   "execution_count": 116,
   "id": "5eb84874",
   "metadata": {},
   "outputs": [],
   "source": [
    "best_rf_model = grid_search.best_estimator_"
   ]
  },
  {
   "cell_type": "code",
   "execution_count": 117,
   "id": "d6f7c884",
   "metadata": {},
   "outputs": [],
   "source": [
    "y_pred = best_rf_model.predict(X_train)"
   ]
  },
  {
   "cell_type": "code",
   "execution_count": 118,
   "id": "ee1ed262",
   "metadata": {},
   "outputs": [
    {
     "name": "stdout",
     "output_type": "stream",
     "text": [
      "Test Mean Squared Error: 0.023639192323736173\n"
     ]
    }
   ],
   "source": [
    "mse = mean_squared_error(y_train, y_pred)\n",
    "print(\"Test Mean Squared Error:\", mse)"
   ]
  },
  {
   "cell_type": "code",
   "execution_count": 108,
   "id": "a9874484",
   "metadata": {},
   "outputs": [
    {
     "name": "stdout",
     "output_type": "stream",
     "text": [
      "0.5950594280614283\n",
      "0.5964783069385802\n"
     ]
    }
   ],
   "source": [
    "from sklearn.metrics import mean_absolute_error, mean_squared_error\n",
    "print(model.score(X_train, y_train))\n",
    "print(model.score(X_val, y_val))"
   ]
  },
  {
   "cell_type": "code",
   "execution_count": 109,
   "id": "ec34c098",
   "metadata": {},
   "outputs": [],
   "source": [
    "pred = model.predict(X_val)"
   ]
  },
  {
   "cell_type": "code",
   "execution_count": 110,
   "id": "2a53acf4",
   "metadata": {},
   "outputs": [
    {
     "name": "stdout",
     "output_type": "stream",
     "text": [
      "MSE: 0.542906\n",
      "RMSE: 0.736822\n",
      "MAE: 0.547778\n"
     ]
    }
   ],
   "source": [
    "mae = mean_absolute_error(y_val, pred)\n",
    "mse = mean_squared_error(y_val, pred)\n",
    "rmse = np.sqrt(mean_squared_error(y_val, pred))\n",
    "print(\"MSE: %f\" % (mse))\n",
    "print(\"RMSE: %f\" % (rmse))\n",
    "print(\"MAE: %f\" % (mae))"
   ]
  },
  {
   "cell_type": "code",
   "execution_count": 111,
   "id": "a1e76f61",
   "metadata": {},
   "outputs": [],
   "source": [
    "from sklearn.ensemble import RandomForestClassifier"
   ]
  },
  {
   "cell_type": "code",
   "execution_count": 112,
   "id": "d78583d4",
   "metadata": {},
   "outputs": [],
   "source": [
    "ms_model = RandomForestClassifier(random_state=42, max_depth= 9,\n",
    "                                 min_samples_split= 2,n_estimators= 200)\n"
   ]
  },
  {
   "cell_type": "code",
   "execution_count": 113,
   "id": "db2030a3",
   "metadata": {},
   "outputs": [],
   "source": [
    "X_test = test.copy()"
   ]
  },
  {
   "cell_type": "code",
   "execution_count": 94,
   "id": "c31499ff",
   "metadata": {},
   "outputs": [
    {
     "data": {
      "text/plain": [
       "Index(['index', 'Hour', 'Temperature(째C)', 'Humidity(%)', 'Wind speed (m/s)',\n",
       "       'Visibility (10m)', 'Dew point temperature(째C)',\n",
       "       'Solar Radiation (MJ/m2)', 'Rainfall(mm)', 'Snowfall (cm)'],\n",
       "      dtype='object')"
      ]
     },
     "execution_count": 94,
     "metadata": {},
     "output_type": "execute_result"
    }
   ],
   "source": [
    "X_train.columns"
   ]
  },
  {
   "cell_type": "code",
   "execution_count": 95,
   "id": "521e682a",
   "metadata": {},
   "outputs": [
    {
     "data": {
      "text/plain": [
       "Index(['Seasons_Spring', 'Seasons_Summer', 'index', 'Hour', 'Temperature(째C)',\n",
       "       'Humidity(%)', 'Wind speed (m/s)', 'Visibility (10m)',\n",
       "       'Dew point temperature(째C)', 'Solar Radiation (MJ/m2)', 'Rainfall(mm)',\n",
       "       'Snowfall (cm)', 'Seasons_Spring', 'Seasons_Summer'],\n",
       "      dtype='object')"
      ]
     },
     "execution_count": 95,
     "metadata": {},
     "output_type": "execute_result"
    }
   ],
   "source": [
    "X_test.columns"
   ]
  },
  {
   "cell_type": "code",
   "execution_count": 96,
   "id": "1e69702e",
   "metadata": {},
   "outputs": [],
   "source": [
    "missing_columns = set(X_train.columns) - set(X_test.columns)"
   ]
  },
  {
   "cell_type": "code",
   "execution_count": 97,
   "id": "66e2b9a3",
   "metadata": {},
   "outputs": [],
   "source": [
    "for column in missing_columns:\n",
    "    X_test[column] = 0"
   ]
  },
  {
   "cell_type": "code",
   "execution_count": 98,
   "id": "765d73fa",
   "metadata": {},
   "outputs": [],
   "source": [
    "X_test = X_test[X_train.columns]"
   ]
  },
  {
   "cell_type": "code",
   "execution_count": 99,
   "id": "f7e5b61f",
   "metadata": {},
   "outputs": [
    {
     "name": "stdout",
     "output_type": "stream",
     "text": [
      "Requirement already satisfied: xgboost in c:\\users\\administrator\\anaconda3\\lib\\site-packages (2.0.3)\n",
      "Requirement already satisfied: numpy in c:\\users\\administrator\\anaconda3\\lib\\site-packages (from xgboost) (1.20.1)\n",
      "Requirement already satisfied: scipy in c:\\users\\administrator\\anaconda3\\lib\\site-packages (from xgboost) (1.6.2)\n",
      "Note: you may need to restart the kernel to use updated packages.\n"
     ]
    }
   ],
   "source": [
    "pip install xgboost"
   ]
  },
  {
   "cell_type": "code",
   "execution_count": 100,
   "id": "c89d2508",
   "metadata": {},
   "outputs": [],
   "source": [
    "from xgboost import XGBRegressor\n",
    "\n",
    "final_model = XGBRegressor(random_state=42, n_estimators= 300, max_depth=8, learning_rate=0.05, subsample=0.8)\n",
    "final_model.fit(X_train, y_train)\n",
    "test['Rented Bike Count']=0\n",
    "test['Rented Bike Count'] = final_model.predict(X_test)"
   ]
  },
  {
   "cell_type": "code",
   "execution_count": 101,
   "id": "2fd3d08c",
   "metadata": {},
   "outputs": [
    {
     "data": {
      "text/html": [
       "<div>\n",
       "<style scoped>\n",
       "    .dataframe tbody tr th:only-of-type {\n",
       "        vertical-align: middle;\n",
       "    }\n",
       "\n",
       "    .dataframe tbody tr th {\n",
       "        vertical-align: top;\n",
       "    }\n",
       "\n",
       "    .dataframe thead th {\n",
       "        text-align: right;\n",
       "    }\n",
       "</style>\n",
       "<table border=\"1\" class=\"dataframe\">\n",
       "  <thead>\n",
       "    <tr style=\"text-align: right;\">\n",
       "      <th></th>\n",
       "      <th>Seasons_Spring</th>\n",
       "      <th>Seasons_Summer</th>\n",
       "      <th>index</th>\n",
       "      <th>Hour</th>\n",
       "      <th>Temperature(째C)</th>\n",
       "      <th>Humidity(%)</th>\n",
       "      <th>Wind speed (m/s)</th>\n",
       "      <th>Visibility (10m)</th>\n",
       "      <th>Dew point temperature(째C)</th>\n",
       "      <th>Solar Radiation (MJ/m2)</th>\n",
       "      <th>Rainfall(mm)</th>\n",
       "      <th>Snowfall (cm)</th>\n",
       "      <th>Seasons_Spring</th>\n",
       "      <th>Seasons_Summer</th>\n",
       "      <th>Rented Bike Count</th>\n",
       "    </tr>\n",
       "  </thead>\n",
       "  <tbody>\n",
       "    <tr>\n",
       "      <th>0</th>\n",
       "      <td>0.0</td>\n",
       "      <td>0.0</td>\n",
       "      <td>0</td>\n",
       "      <td>0</td>\n",
       "      <td>5.7</td>\n",
       "      <td>62</td>\n",
       "      <td>2.0</td>\n",
       "      <td>1909</td>\n",
       "      <td>-1.0</td>\n",
       "      <td>0.0</td>\n",
       "      <td>0.0</td>\n",
       "      <td>0.0</td>\n",
       "      <td>0.0</td>\n",
       "      <td>0.0</td>\n",
       "      <td>5.766209</td>\n",
       "    </tr>\n",
       "    <tr>\n",
       "      <th>1</th>\n",
       "      <td>0.0</td>\n",
       "      <td>0.0</td>\n",
       "      <td>1</td>\n",
       "      <td>1</td>\n",
       "      <td>5.1</td>\n",
       "      <td>65</td>\n",
       "      <td>2.0</td>\n",
       "      <td>1932</td>\n",
       "      <td>-0.9</td>\n",
       "      <td>0.0</td>\n",
       "      <td>0.0</td>\n",
       "      <td>0.0</td>\n",
       "      <td>0.0</td>\n",
       "      <td>0.0</td>\n",
       "      <td>5.694828</td>\n",
       "    </tr>\n",
       "    <tr>\n",
       "      <th>2</th>\n",
       "      <td>0.0</td>\n",
       "      <td>0.0</td>\n",
       "      <td>2</td>\n",
       "      <td>2</td>\n",
       "      <td>4.4</td>\n",
       "      <td>64</td>\n",
       "      <td>1.0</td>\n",
       "      <td>2000</td>\n",
       "      <td>-1.8</td>\n",
       "      <td>0.0</td>\n",
       "      <td>0.0</td>\n",
       "      <td>0.0</td>\n",
       "      <td>0.0</td>\n",
       "      <td>0.0</td>\n",
       "      <td>5.311195</td>\n",
       "    </tr>\n",
       "    <tr>\n",
       "      <th>3</th>\n",
       "      <td>0.0</td>\n",
       "      <td>0.0</td>\n",
       "      <td>3</td>\n",
       "      <td>3</td>\n",
       "      <td>4.2</td>\n",
       "      <td>65</td>\n",
       "      <td>1.0</td>\n",
       "      <td>1962</td>\n",
       "      <td>-1.8</td>\n",
       "      <td>0.0</td>\n",
       "      <td>0.0</td>\n",
       "      <td>0.0</td>\n",
       "      <td>0.0</td>\n",
       "      <td>0.0</td>\n",
       "      <td>4.749995</td>\n",
       "    </tr>\n",
       "    <tr>\n",
       "      <th>4</th>\n",
       "      <td>0.0</td>\n",
       "      <td>0.0</td>\n",
       "      <td>4</td>\n",
       "      <td>4</td>\n",
       "      <td>3.6</td>\n",
       "      <td>70</td>\n",
       "      <td>1.0</td>\n",
       "      <td>1934</td>\n",
       "      <td>-1.3</td>\n",
       "      <td>0.0</td>\n",
       "      <td>0.0</td>\n",
       "      <td>0.0</td>\n",
       "      <td>0.0</td>\n",
       "      <td>0.0</td>\n",
       "      <td>4.365534</td>\n",
       "    </tr>\n",
       "    <tr>\n",
       "      <th>...</th>\n",
       "      <td>...</td>\n",
       "      <td>...</td>\n",
       "      <td>...</td>\n",
       "      <td>...</td>\n",
       "      <td>...</td>\n",
       "      <td>...</td>\n",
       "      <td>...</td>\n",
       "      <td>...</td>\n",
       "      <td>...</td>\n",
       "      <td>...</td>\n",
       "      <td>...</td>\n",
       "      <td>...</td>\n",
       "      <td>...</td>\n",
       "      <td>...</td>\n",
       "      <td>...</td>\n",
       "    </tr>\n",
       "    <tr>\n",
       "      <th>715</th>\n",
       "      <td>0.0</td>\n",
       "      <td>0.0</td>\n",
       "      <td>715</td>\n",
       "      <td>19</td>\n",
       "      <td>4.2</td>\n",
       "      <td>34</td>\n",
       "      <td>3.0</td>\n",
       "      <td>1894</td>\n",
       "      <td>-10.3</td>\n",
       "      <td>0.0</td>\n",
       "      <td>0.0</td>\n",
       "      <td>0.0</td>\n",
       "      <td>0.0</td>\n",
       "      <td>0.0</td>\n",
       "      <td>5.759770</td>\n",
       "    </tr>\n",
       "    <tr>\n",
       "      <th>716</th>\n",
       "      <td>0.0</td>\n",
       "      <td>0.0</td>\n",
       "      <td>716</td>\n",
       "      <td>20</td>\n",
       "      <td>3.4</td>\n",
       "      <td>37</td>\n",
       "      <td>2.0</td>\n",
       "      <td>2000</td>\n",
       "      <td>-9.9</td>\n",
       "      <td>0.0</td>\n",
       "      <td>0.0</td>\n",
       "      <td>0.0</td>\n",
       "      <td>0.0</td>\n",
       "      <td>0.0</td>\n",
       "      <td>5.620811</td>\n",
       "    </tr>\n",
       "    <tr>\n",
       "      <th>717</th>\n",
       "      <td>0.0</td>\n",
       "      <td>0.0</td>\n",
       "      <td>717</td>\n",
       "      <td>21</td>\n",
       "      <td>2.6</td>\n",
       "      <td>39</td>\n",
       "      <td>0.0</td>\n",
       "      <td>1968</td>\n",
       "      <td>-9.9</td>\n",
       "      <td>0.0</td>\n",
       "      <td>0.0</td>\n",
       "      <td>0.0</td>\n",
       "      <td>0.0</td>\n",
       "      <td>0.0</td>\n",
       "      <td>5.640006</td>\n",
       "    </tr>\n",
       "    <tr>\n",
       "      <th>718</th>\n",
       "      <td>0.0</td>\n",
       "      <td>0.0</td>\n",
       "      <td>718</td>\n",
       "      <td>22</td>\n",
       "      <td>2.1</td>\n",
       "      <td>41</td>\n",
       "      <td>1.0</td>\n",
       "      <td>1859</td>\n",
       "      <td>-9.8</td>\n",
       "      <td>0.0</td>\n",
       "      <td>0.0</td>\n",
       "      <td>0.0</td>\n",
       "      <td>0.0</td>\n",
       "      <td>0.0</td>\n",
       "      <td>5.662038</td>\n",
       "    </tr>\n",
       "    <tr>\n",
       "      <th>719</th>\n",
       "      <td>0.0</td>\n",
       "      <td>0.0</td>\n",
       "      <td>719</td>\n",
       "      <td>23</td>\n",
       "      <td>1.9</td>\n",
       "      <td>43</td>\n",
       "      <td>1.0</td>\n",
       "      <td>1909</td>\n",
       "      <td>-9.3</td>\n",
       "      <td>0.0</td>\n",
       "      <td>0.0</td>\n",
       "      <td>0.0</td>\n",
       "      <td>0.0</td>\n",
       "      <td>0.0</td>\n",
       "      <td>5.454744</td>\n",
       "    </tr>\n",
       "  </tbody>\n",
       "</table>\n",
       "<p>720 rows × 15 columns</p>\n",
       "</div>"
      ],
      "text/plain": [
       "     Seasons_Spring  Seasons_Summer  index  Hour  Temperature(째C)  \\\n",
       "0               0.0             0.0      0     0              5.7   \n",
       "1               0.0             0.0      1     1              5.1   \n",
       "2               0.0             0.0      2     2              4.4   \n",
       "3               0.0             0.0      3     3              4.2   \n",
       "4               0.0             0.0      4     4              3.6   \n",
       "..              ...             ...    ...   ...              ...   \n",
       "715             0.0             0.0    715    19              4.2   \n",
       "716             0.0             0.0    716    20              3.4   \n",
       "717             0.0             0.0    717    21              2.6   \n",
       "718             0.0             0.0    718    22              2.1   \n",
       "719             0.0             0.0    719    23              1.9   \n",
       "\n",
       "     Humidity(%)  Wind speed (m/s)  Visibility (10m)  \\\n",
       "0             62               2.0              1909   \n",
       "1             65               2.0              1932   \n",
       "2             64               1.0              2000   \n",
       "3             65               1.0              1962   \n",
       "4             70               1.0              1934   \n",
       "..           ...               ...               ...   \n",
       "715           34               3.0              1894   \n",
       "716           37               2.0              2000   \n",
       "717           39               0.0              1968   \n",
       "718           41               1.0              1859   \n",
       "719           43               1.0              1909   \n",
       "\n",
       "     Dew point temperature(째C)  Solar Radiation (MJ/m2)  Rainfall(mm)  \\\n",
       "0                         -1.0                      0.0           0.0   \n",
       "1                         -0.9                      0.0           0.0   \n",
       "2                         -1.8                      0.0           0.0   \n",
       "3                         -1.8                      0.0           0.0   \n",
       "4                         -1.3                      0.0           0.0   \n",
       "..                         ...                      ...           ...   \n",
       "715                      -10.3                      0.0           0.0   \n",
       "716                       -9.9                      0.0           0.0   \n",
       "717                       -9.9                      0.0           0.0   \n",
       "718                       -9.8                      0.0           0.0   \n",
       "719                       -9.3                      0.0           0.0   \n",
       "\n",
       "     Snowfall (cm)  Seasons_Spring  Seasons_Summer  Rented Bike Count  \n",
       "0              0.0             0.0             0.0           5.766209  \n",
       "1              0.0             0.0             0.0           5.694828  \n",
       "2              0.0             0.0             0.0           5.311195  \n",
       "3              0.0             0.0             0.0           4.749995  \n",
       "4              0.0             0.0             0.0           4.365534  \n",
       "..             ...             ...             ...                ...  \n",
       "715            0.0             0.0             0.0           5.759770  \n",
       "716            0.0             0.0             0.0           5.620811  \n",
       "717            0.0             0.0             0.0           5.640006  \n",
       "718            0.0             0.0             0.0           5.662038  \n",
       "719            0.0             0.0             0.0           5.454744  \n",
       "\n",
       "[720 rows x 15 columns]"
      ]
     },
     "execution_count": 101,
     "metadata": {},
     "output_type": "execute_result"
    }
   ],
   "source": [
    "test"
   ]
  },
  {
   "cell_type": "code",
   "execution_count": 102,
   "id": "4322fc2c",
   "metadata": {},
   "outputs": [],
   "source": [
    "test.to_csv('test_final.csv', index=False)"
   ]
  }
 ],
 "metadata": {
  "kernelspec": {
   "display_name": "Python 3",
   "language": "python",
   "name": "python3"
  },
  "language_info": {
   "codemirror_mode": {
    "name": "ipython",
    "version": 3
   },
   "file_extension": ".py",
   "mimetype": "text/x-python",
   "name": "python",
   "nbconvert_exporter": "python",
   "pygments_lexer": "ipython3",
   "version": "3.8.8"
  },
  "toc": {
   "base_numbering": 1,
   "nav_menu": {},
   "number_sections": true,
   "sideBar": true,
   "skip_h1_title": false,
   "title_cell": "Table of Contents",
   "title_sidebar": "Contents",
   "toc_cell": false,
   "toc_position": {},
   "toc_section_display": true,
   "toc_window_display": false
  }
 },
 "nbformat": 4,
 "nbformat_minor": 5
}
